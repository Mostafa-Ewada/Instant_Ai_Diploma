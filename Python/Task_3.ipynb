{
  "cells": [
    {
      "cell_type": "markdown",
      "metadata": {
        "id": "759d04ba"
      },
      "source": [
        "**1-Write a Python program to calculate the length of a string using 2 ways"
      ],
      "id": "759d04ba"
    },
    {
      "cell_type": "code",
      "execution_count": null,
      "metadata": {
        "colab": {
          "base_uri": "https://localhost:8080/"
        },
        "id": "e434c950",
        "outputId": "07e550ce-b601-4a22-8632-d0ad339606bd"
      },
      "outputs": [
        {
          "name": "stdout",
          "output_type": "stream",
          "text": [
            "The length is 5\n"
          ]
        }
      ],
      "source": [
        "s = \"Hello\"\n",
        "s += \"#\"\n",
        "i = 0\n",
        "while s[i] != \"#\" :\n",
        "  i += 1\n",
        "print(\"The length is\", i)"
      ],
      "id": "e434c950"
    },
    {
      "cell_type": "code",
      "execution_count": null,
      "metadata": {
        "colab": {
          "base_uri": "https://localhost:8080/"
        },
        "id": "7a2dfa32",
        "outputId": "252e1a51-d4b6-41f2-af65-1a237880fa68"
      },
      "outputs": [
        {
          "name": "stdout",
          "output_type": "stream",
          "text": [
            "The length is 5\n"
          ]
        }
      ],
      "source": [
        "s = \"Hello\"\n",
        "n = 0\n",
        "l = list(s)\n",
        "for i in l :\n",
        "  n += 1\n",
        "print(\"The length is\", n)"
      ],
      "id": "7a2dfa32"
    },
    {
      "cell_type": "markdown",
      "metadata": {
        "id": "d7cc9da7"
      },
      "source": [
        "**2-Write a Python program to get a string made of the first 2 and last 2 characters of a given string. If the string length is less than 2, return the empty string instead (\"##Sample String : 'w3resource'\n",
        "Expected Result : 'w3ce'\n",
        "##Sample String : 'w3'\n",
        "Expected Result : 'w3w3'\n",
        "##Sample String : ' w'\n",
        "Expected Result : Empty String)"
      ],
      "id": "d7cc9da7"
    },
    {
      "cell_type": "code",
      "execution_count": null,
      "metadata": {
        "colab": {
          "base_uri": "https://localhost:8080/"
        },
        "id": "dafa9dd8",
        "outputId": "aa028329-1dde-49cf-ab2f-e72d53b1df75"
      },
      "outputs": [
        {
          "name": "stdout",
          "output_type": "stream",
          "text": [
            "w3w3\n"
          ]
        }
      ],
      "source": [
        "s = input(\"Enter string\")\n",
        "if len(s) < 2 :\n",
        "    print(\"Embty string\")\n",
        "else :\n",
        "    print(s[:2] + s[-2:])"
      ],
      "id": "dafa9dd8"
    },
    {
      "cell_type": "markdown",
      "metadata": {
        "id": "1534f956"
      },
      "source": [
        "**3-Write a Python program to add 'ing' at the end of a given string (length should be at least 3). If the given string already ends with 'ing', add 'ly' instead. If the string length of the given string is less than 3, leave it unchanged. (Sample String : 'abc'\n",
        "Expected Result : 'abcing')"
      ],
      "id": "1534f956"
    },
    {
      "cell_type": "code",
      "execution_count": null,
      "metadata": {
        "colab": {
          "base_uri": "https://localhost:8080/"
        },
        "id": "7ff8cec4",
        "outputId": "c0e3a4ac-1c89-423e-8199-f8ae229021b2"
      },
      "outputs": [
        {
          "name": "stdout",
          "output_type": "stream",
          "text": [
            "helloing\n"
          ]
        }
      ],
      "source": [
        "s = input(\"Enter string\")\n",
        "if len(s) > 3 :\n",
        "    if s[-3:] == \"ing\" :\n",
        "        s += \"ly\"\n",
        "    else :\n",
        "        s += \"ing\"\n",
        "print(s)"
      ],
      "id": "7ff8cec4"
    },
    {
      "cell_type": "markdown",
      "metadata": {
        "id": "1c0a6627"
      },
      "source": [
        "**4-Write a Python function that takes a list of words and return the longest word and the length of the longest one\n",
        "(Longest word: Exercises\n",
        "Length of the longest word: 9)"
      ],
      "id": "1c0a6627"
    },
    {
      "cell_type": "code",
      "execution_count": null,
      "metadata": {
        "colab": {
          "base_uri": "https://localhost:8080/"
        },
        "id": "397341d9",
        "outputId": "fb2d1748-b624-4c57-ad7e-6458f4afd40c"
      },
      "outputs": [
        {
          "name": "stdout",
          "output_type": "stream",
          "text": [
            "The longest string is welcome and it's length is 7\n"
          ]
        }
      ],
      "source": [
        "def long(l) :\n",
        "  i = 0\n",
        "  s = \"s\"\n",
        "  while i < len(l) :\n",
        "    if len(l[i]) > len(s) :\n",
        "      s = l[i]\n",
        "    i += 1\n",
        "  print(\"The longest string is\", s, \"and it's length is\", len(s))\n",
        "n = [\"hello\", \"ok\", \"welcome\", \"well\"]\n",
        "long(n)"
      ],
      "id": "397341d9"
    },
    {
      "cell_type": "markdown",
      "metadata": {
        "id": "53a03a6a"
      },
      "source": [
        "**5-Write a Python program to change a given string to a newly string where the first and last chars have been exchanged using 2 ways (Sample String:abca  Expected Result:ebce)"
      ],
      "id": "53a03a6a"
    },
    {
      "cell_type": "code",
      "execution_count": null,
      "metadata": {
        "colab": {
          "base_uri": "https://localhost:8080/"
        },
        "id": "fd327d2a",
        "outputId": "782efcff-69c7-486b-bdb5-0d22501a005d"
      },
      "outputs": [
        {
          "name": "stdout",
          "output_type": "stream",
          "text": [
            "ebce\n"
          ]
        }
      ],
      "source": [
        "s = \"abca\"\n",
        "s = \"e\" + s[1:-1] + \"e\"\n",
        "print(s)"
      ],
      "id": "fd327d2a"
    },
    {
      "cell_type": "code",
      "execution_count": null,
      "metadata": {
        "colab": {
          "base_uri": "https://localhost:8080/"
        },
        "id": "285788b4",
        "outputId": "254c0438-c6de-4e37-933d-f9b5f4c7bf3c"
      },
      "outputs": [
        {
          "name": "stdout",
          "output_type": "stream",
          "text": [
            "ebce"
          ]
        }
      ],
      "source": [
        "s = \"abca\"\n",
        "i = 0\n",
        "l = list(s)\n",
        "l[0], l[-1] = \"e\", \"e\"\n",
        "while i < len(l) :\n",
        "  print(l[i], end=\"\")\n",
        "  i += 1"
      ],
      "id": "285788b4"
    },
    {
      "cell_type": "markdown",
      "metadata": {
        "id": "25f89808"
      },
      "source": [
        "**6-Write a Python program to remove characters that have odd index values in a given string (Sample String:abca Expected Result:ac)"
      ],
      "id": "25f89808"
    },
    {
      "cell_type": "code",
      "execution_count": null,
      "metadata": {
        "colab": {
          "base_uri": "https://localhost:8080/"
        },
        "id": "05959bd7",
        "outputId": "10ea556c-ead3-47b3-a2ef-8dbfe0bcf564"
      },
      "outputs": [
        {
          "name": "stdout",
          "output_type": "stream",
          "text": [
            "ac"
          ]
        }
      ],
      "source": [
        "s = \"abca\"\n",
        "j = 0\n",
        "for i in s :\n",
        "  if j % 2 == 0 :\n",
        "    print(s[j], end=\"\")\n",
        "  j += 1"
      ],
      "id": "05959bd7"
    },
    {
      "cell_type": "markdown",
      "metadata": {
        "id": "eb16e898"
      },
      "source": [
        "**7-Write a Python program to count the occurrences of each word in a given sentence (Sample String:amr and ahmed are frindes but amr is the tallest Expected Result:2)"
      ],
      "id": "eb16e898"
    },
    {
      "cell_type": "code",
      "execution_count": null,
      "metadata": {
        "colab": {
          "base_uri": "https://localhost:8080/"
        },
        "id": "01ce6cf5",
        "outputId": "bd01b259-fce9-4d08-b06d-1add1de2a7e2"
      },
      "outputs": [
        {
          "name": "stdout",
          "output_type": "stream",
          "text": [
            "amr and ahmed are frindes but amr is the tallest\n",
            "which word you want to count ? amr\n",
            "it repeated 2 times\n"
          ]
        }
      ],
      "source": [
        "s = \"amr and ahmed are frindes but amr is the tallest\"\n",
        "print(s)\n",
        "w = input(\"which word you want to count ? \")\n",
        "l = list(s.split())\n",
        "n = l.count(w)\n",
        "print(\"it repeated\", n, \"times\")"
      ],
      "id": "01ce6cf5"
    },
    {
      "cell_type": "markdown",
      "metadata": {
        "id": "4e8125f1"
      },
      "source": [
        "**8-Write a Python script that takes input from the user and displays that input back in upper and lower cases"
      ],
      "id": "4e8125f1"
    },
    {
      "cell_type": "code",
      "execution_count": null,
      "metadata": {
        "colab": {
          "base_uri": "https://localhost:8080/"
        },
        "id": "66c8f778",
        "outputId": "3614565e-c1e1-49b9-9878-0faf68d1fa47"
      },
      "outputs": [
        {
          "name": "stdout",
          "output_type": "stream",
          "text": [
            "Enter the sentence mostafa osama ewada\n",
            "EWADA OSAMA MOSTAFA\n",
            "ewada osama mostafa\n"
          ]
        }
      ],
      "source": [
        "s = input(\"Enter the sentence \")\n",
        "l = list(s.split(\" \"))\n",
        "s = \" \".join(l[::-1])\n",
        "print(s.upper())\n",
        "print(s.lower())"
      ],
      "id": "66c8f778"
    },
    {
      "cell_type": "markdown",
      "metadata": {
        "id": "fcd68aa1"
      },
      "source": [
        "**9-Write a Python function to reverse a string if its length is a multiple of 4"
      ],
      "id": "fcd68aa1"
    },
    {
      "cell_type": "code",
      "execution_count": null,
      "metadata": {
        "colab": {
          "base_uri": "https://localhost:8080/"
        },
        "id": "0671a931",
        "outputId": "6180a07f-7124-4b4f-8577-d0b849d3895b"
      },
      "outputs": [
        {
          "name": "stdout",
          "output_type": "stream",
          "text": [
            "Enter string most\n",
            "tsom\n"
          ]
        }
      ],
      "source": [
        "def rev(s) :\n",
        "  if len(s) % 4 == 0 :\n",
        "    print(s[::-1])\n",
        "  else :\n",
        "    print(s)\n",
        "m = input(\"Enter string \")\n",
        "rev(m)"
      ],
      "id": "0671a931"
    },
    {
      "cell_type": "markdown",
      "metadata": {
        "id": "b577c68d"
      },
      "source": [
        "**10- Write a Python program to remove a newline in Python"
      ],
      "id": "b577c68d"
    },
    {
      "cell_type": "code",
      "execution_count": null,
      "metadata": {
        "colab": {
          "base_uri": "https://localhost:8080/"
        },
        "id": "e0c6525a",
        "outputId": "f7ca6c79-0191-43f8-8f95-d392e5f2766b"
      },
      "outputs": [
        {
          "name": "stdout",
          "output_type": "stream",
          "text": [
            "hello\n",
            "world\n",
            "how\n",
            "are\n",
            "you\n",
            "hello world how are you\n"
          ]
        }
      ],
      "source": [
        "s = \"\"\"hello\n",
        "world\n",
        "how\n",
        "are\n",
        "you\"\"\"\n",
        "print(s)\n",
        "l = list(s.split(\"\\n\"))\n",
        "s = \" \".join(l)\n",
        "print(s)"
      ],
      "id": "e0c6525a"
    },
    {
      "cell_type": "markdown",
      "metadata": {
        "id": "80db5ae0"
      },
      "source": [
        "**11-Write a Python program to check whether a string starts with specified characters"
      ],
      "id": "80db5ae0"
    },
    {
      "cell_type": "code",
      "execution_count": null,
      "metadata": {
        "colab": {
          "base_uri": "https://localhost:8080/"
        },
        "id": "0cc4e03e",
        "outputId": "727fff66-4a72-4c4e-bf33-a72c4f2ad8dd"
      },
      "outputs": [
        {
          "name": "stdout",
          "output_type": "stream",
          "text": [
            "Enter a string mostafa\n",
            "Enter specified character m\n",
            "The string starts with m\n"
          ]
        }
      ],
      "source": [
        "s = input(\"Enter a string \")\n",
        "p = input(\"Enter specified character \")\n",
        "if s[0] == p[0] :\n",
        "  print(\"The string starts with\", p[0])\n",
        "else :\n",
        "  print(\"The string doesn't start with\", p[0])"
      ],
      "id": "0cc4e03e"
    },
    {
      "cell_type": "markdown",
      "metadata": {
        "id": "593a68db"
      },
      "source": [
        "**12- Write a Python program to add prefix text to all of the lines in a string"
      ],
      "id": "593a68db"
    },
    {
      "cell_type": "code",
      "execution_count": null,
      "metadata": {
        "colab": {
          "base_uri": "https://localhost:8080/"
        },
        "id": "d2e46ada",
        "outputId": "c51db2dd-1b6a-443a-c01e-9980b5687d37"
      },
      "outputs": [
        {
          "name": "stdout",
          "output_type": "stream",
          "text": [
            "@hello\n",
            "@how are you?\n",
            "@that is a test\n"
          ]
        }
      ],
      "source": [
        "s = \"\"\"hello\n",
        "how are you?\n",
        "that is a test\"\"\"\n",
        "l = list(s.split(\"\\n\"))\n",
        "s = \"\\n@\".join(l)\n",
        "s = \"@\" + s[0:]\n",
        "print(s)"
      ],
      "id": "d2e46ada"
    },
    {
      "cell_type": "markdown",
      "metadata": {
        "id": "86fa1543"
      },
      "source": [
        "**13-Write a Python program to print the following numbers up to 2 decimal places"
      ],
      "id": "86fa1543"
    },
    {
      "cell_type": "code",
      "execution_count": null,
      "metadata": {
        "id": "cd4a9d89",
        "colab": {
          "base_uri": "https://localhost:8080/"
        },
        "outputId": "be060270-8666-4c4c-89da-596d756bc5dc"
      },
      "outputs": [
        {
          "output_type": "stream",
          "name": "stdout",
          "text": [
            "2.00\n",
            "4.60\n",
            "8.00\n"
          ]
        }
      ],
      "source": [
        "l = [2, 4.6, 8]\n",
        "for i in range(0, len(l)) :\n",
        "  print(f'{l[i]:.2f}')"
      ],
      "id": "cd4a9d89"
    },
    {
      "cell_type": "markdown",
      "metadata": {
        "id": "452c0ab0"
      },
      "source": [
        "**14-Write a Python program to print the following numbers up to 2 decimal places with a sign"
      ],
      "id": "452c0ab0"
    },
    {
      "cell_type": "code",
      "execution_count": null,
      "metadata": {
        "id": "73e82479",
        "colab": {
          "base_uri": "https://localhost:8080/"
        },
        "outputId": "2a25f011-b78b-4cc0-fda1-3f1c69363444"
      },
      "outputs": [
        {
          "output_type": "stream",
          "name": "stdout",
          "text": [
            "+2.00\n",
            "+4.60\n",
            "-8.00\n"
          ]
        }
      ],
      "source": [
        "l = [2, 4.6, -8]\n",
        "for i in range(0, len(l)) :\n",
        "  if l[i] > 0 :\n",
        "    print(f'+{l[i]:.2f}')\n",
        "  else :\n",
        "    print(f'{l[i]:.2f}')"
      ],
      "id": "73e82479"
    },
    {
      "cell_type": "markdown",
      "metadata": {
        "id": "32b1811a"
      },
      "source": [
        "**15-Write a Python program to display a number with a comma separator"
      ],
      "id": "32b1811a"
    },
    {
      "cell_type": "code",
      "execution_count": null,
      "metadata": {
        "id": "f30fc0b6",
        "colab": {
          "base_uri": "https://localhost:8080/"
        },
        "outputId": "533ae583-9bef-42b8-96b2-60056a65391b"
      },
      "outputs": [
        {
          "output_type": "stream",
          "name": "stdout",
          "text": [
            "20,000,000.00\n",
            "4.60\n",
            "800.00\n"
          ]
        }
      ],
      "source": [
        "l = [20000000, 4.600000, 800]\n",
        "for i in range(0, len(l)) :\n",
        "  print(f'{l[i]:,.2f}')"
      ],
      "id": "f30fc0b6"
    },
    {
      "cell_type": "markdown",
      "metadata": {
        "id": "0477f487"
      },
      "source": [
        "**16-Write a Python program to reverse a string using 2 ways"
      ],
      "id": "0477f487"
    },
    {
      "cell_type": "code",
      "execution_count": null,
      "metadata": {
        "colab": {
          "base_uri": "https://localhost:8080/"
        },
        "id": "aa8beec8",
        "outputId": "b859d6bf-3e58-4b97-a930-6f435305f9ec"
      },
      "outputs": [
        {
          "name": "stdout",
          "output_type": "stream",
          "text": [
            "mostafa\n",
            "afatsom\n"
          ]
        }
      ],
      "source": [
        "s = \"mostafa\"\n",
        "print(s)\n",
        "print(s[::-1])"
      ],
      "id": "aa8beec8"
    },
    {
      "cell_type": "code",
      "execution_count": null,
      "metadata": {
        "colab": {
          "base_uri": "https://localhost:8080/"
        },
        "id": "DQECAGFZyus4",
        "outputId": "b6086bcb-87ca-45e4-b1f9-35efcea62c1c"
      },
      "outputs": [
        {
          "name": "stdout",
          "output_type": "stream",
          "text": [
            "mostafa\n",
            "afatsom\n"
          ]
        }
      ],
      "source": [
        "s = \"mostafa\"\n",
        "print(s)\n",
        "l = list(s)\n",
        "l.reverse()\n",
        "print(\"\".join(l))"
      ],
      "id": "DQECAGFZyus4"
    },
    {
      "cell_type": "markdown",
      "metadata": {
        "id": "5afc3166"
      },
      "source": [
        " **17-Write a Python program to count repeated characters in a string (hint:use dictionary)"
      ],
      "id": "5afc3166"
    },
    {
      "cell_type": "code",
      "execution_count": null,
      "metadata": {
        "colab": {
          "base_uri": "https://localhost:8080/"
        },
        "id": "515a469c",
        "outputId": "c4c10e56-ccf8-4903-f505-a3834b92a1f2"
      },
      "outputs": [
        {
          "name": "stdout",
          "output_type": "stream",
          "text": [
            "Enter a string order\n",
            "Enter character to count r\n",
            "r is repeated 2 times\n"
          ]
        }
      ],
      "source": [
        "s = input(\"Enter a string \")\n",
        "r = input(\"Enter character to count \")\n",
        "l = list(s)\n",
        "n = l.count(r)\n",
        "print(r, \"is repeated\", n, \"times\")\n"
      ],
      "id": "515a469c"
    },
    {
      "cell_type": "markdown",
      "metadata": {
        "id": "ae14e4e5"
      },
      "source": [
        "**18-Write a Python program to find the first non-repeating character in a given string"
      ],
      "id": "ae14e4e5"
    },
    {
      "cell_type": "code",
      "execution_count": null,
      "metadata": {
        "colab": {
          "base_uri": "https://localhost:8080/"
        },
        "id": "d73778e5",
        "outputId": "7debad29-087e-4f2f-8fdd-06c2254d011c"
      },
      "outputs": [
        {
          "name": "stdout",
          "output_type": "stream",
          "text": [
            "Enter a string oro\n",
            "r\n"
          ]
        }
      ],
      "source": [
        "s = input(\"Enter a string \")\n",
        "for i in s :\n",
        "  if s.count(i) == 1 :\n",
        "    print(i)\n",
        "    break\n",
        "else :\n",
        "  print(\"There is not non-repeating character\")"
      ],
      "id": "d73778e5"
    },
    {
      "cell_type": "markdown",
      "metadata": {
        "id": "3adf5669"
      },
      "source": [
        "**19-Write a Python program to remove spaces from a given string"
      ],
      "id": "3adf5669"
    },
    {
      "cell_type": "code",
      "execution_count": null,
      "metadata": {
        "colab": {
          "base_uri": "https://localhost:8080/"
        },
        "id": "b4f22602",
        "outputId": "c91dd0a5-fb09-4bad-add2-b02eb5829aef"
      },
      "outputs": [
        {
          "name": "stdout",
          "output_type": "stream",
          "text": [
            "That is a test\n",
            "Thatisatest\n"
          ]
        }
      ],
      "source": [
        "s = 'That is a test'\n",
        "print(s)\n",
        "l = list(s.split(\" \"))\n",
        "print(\"\".join(l))"
      ],
      "id": "b4f22602"
    },
    {
      "cell_type": "markdown",
      "metadata": {
        "id": "734de60c"
      },
      "source": [
        "**20-Write a Python program to count the number of non-empty substrings of a given string"
      ],
      "id": "734de60c"
    },
    {
      "cell_type": "code",
      "execution_count": null,
      "metadata": {
        "colab": {
          "base_uri": "https://localhost:8080/"
        },
        "id": "ef3f2274",
        "outputId": "2990717d-623d-4867-965b-a7deefadae8b"
      },
      "outputs": [
        {
          "name": "stdout",
          "output_type": "stream",
          "text": [
            "Enter a string k    k   p   p\n",
            "4\n"
          ]
        }
      ],
      "source": [
        "s = input(\"Enter a string \")\n",
        "n = 0\n",
        "for i in s :\n",
        "  if i != \" \" :\n",
        "    n += 1\n",
        "print(n)"
      ],
      "id": "ef3f2274"
    },
    {
      "cell_type": "markdown",
      "metadata": {
        "id": "509998e2"
      },
      "source": [
        "**21-write a Python program to swap first and last element of any list."
      ],
      "id": "509998e2"
    },
    {
      "cell_type": "code",
      "execution_count": null,
      "metadata": {
        "colab": {
          "base_uri": "https://localhost:8080/"
        },
        "id": "68692d7f",
        "outputId": "7dccf1d2-bd15-44cc-97be-43552f77db15"
      },
      "outputs": [
        {
          "name": "stdout",
          "output_type": "stream",
          "text": [
            "[1, 'mostafa', 'osama']\n",
            "['osama', 'mostafa', 1]\n"
          ]
        }
      ],
      "source": [
        "l = [1, 'mostafa', 'osama']\n",
        "print(l)\n",
        "l[0], l[-1] = l[-1], l[0]\n",
        "print(l)"
      ],
      "id": "68692d7f"
    },
    {
      "cell_type": "markdown",
      "metadata": {
        "id": "959e0837"
      },
      "source": [
        "**22-Given a list in Python and provided the positions of the elements, write a program to swap the two elements in the list. (Input : List = [23, 65, 19, 90], pos1 = 1, pos2 = 3\n",
        "Output : [19, 65, 23, 90])"
      ],
      "id": "959e0837"
    },
    {
      "cell_type": "code",
      "execution_count": null,
      "metadata": {
        "colab": {
          "base_uri": "https://localhost:8080/"
        },
        "id": "225d8c6d",
        "outputId": "eafeb943-add3-48c9-f76c-f89607c1a715"
      },
      "outputs": [
        {
          "name": "stdout",
          "output_type": "stream",
          "text": [
            "[23, 65, 19, 90]\n",
            "Enter first element to swap 1\n",
            "Enter second element to swap 3\n",
            "[19, 65, 23, 90]\n"
          ]
        }
      ],
      "source": [
        "l =  [23, 65, 19, 90]\n",
        "print(l)\n",
        "n1 = int(input(\"Enter first element to swap \"))\n",
        "n2 = int(input(\"Enter second element to swap \"))\n",
        "l[n1 - 1], l[n2 - 1] = l[n2 - 1], l[n1 - 1]\n",
        "print(l)"
      ],
      "id": "225d8c6d"
    },
    {
      "cell_type": "markdown",
      "metadata": {
        "id": "66fc6682"
      },
      "source": [
        "**23- search for the all ways to know the length of the list"
      ],
      "id": "66fc6682"
    },
    {
      "cell_type": "code",
      "execution_count": null,
      "metadata": {
        "id": "63ff8b43"
      },
      "outputs": [],
      "source": [
        "**24-write a Python code to find the Maximum number of list of numbers."
      ],
      "id": "63ff8b43"
    },
    {
      "cell_type": "code",
      "execution_count": null,
      "metadata": {
        "colab": {
          "base_uri": "https://localhost:8080/"
        },
        "id": "15f342de",
        "outputId": "35bea1e4-0f16-490a-abd1-4678e8445fe3"
      },
      "outputs": [
        {
          "output_type": "stream",
          "name": "stdout",
          "text": [
            "The maximum number is 8\n"
          ]
        }
      ],
      "source": [
        "l = [5, 7, 1, 8]\n",
        "n = max(l)\n",
        "print(\"The maximum number is\", n)"
      ],
      "id": "15f342de"
    },
    {
      "cell_type": "code",
      "execution_count": null,
      "metadata": {
        "id": "1a89b9d3"
      },
      "outputs": [],
      "source": [
        "**25-write a Python code to find the Minimum number of list of numbers."
      ],
      "id": "1a89b9d3"
    },
    {
      "cell_type": "code",
      "execution_count": null,
      "metadata": {
        "id": "21f8cbd6",
        "colab": {
          "base_uri": "https://localhost:8080/"
        },
        "outputId": "a785c17c-9451-4874-d62d-5ce194faa4d0"
      },
      "outputs": [
        {
          "output_type": "stream",
          "name": "stdout",
          "text": [
            "The manimum number is 1\n"
          ]
        }
      ],
      "source": [
        "l = [5, 7, 1, 8]\n",
        "n = min(l)\n",
        "print(\"The manimum number is\", n)"
      ],
      "id": "21f8cbd6"
    },
    {
      "cell_type": "markdown",
      "metadata": {
        "id": "96822d96"
      },
      "source": [
        "**26-search for if an elem is existing in list"
      ],
      "id": "96822d96"
    },
    {
      "cell_type": "code",
      "execution_count": null,
      "metadata": {
        "id": "51ca5c9a",
        "colab": {
          "base_uri": "https://localhost:8080/"
        },
        "outputId": "4bb764d2-c6ad-41f4-8497-486700bb0d78"
      },
      "outputs": [
        {
          "output_type": "stream",
          "name": "stdout",
          "text": [
            "[5, 8, 15, 7, 33]\n",
            "Enter an element to search 7\n",
            "7 is in the list\n"
          ]
        }
      ],
      "source": [
        "l = [5, 8, 15, 7, 33]\n",
        "print(l)\n",
        "n = int(input(\"Enter an element to search \"))\n",
        "if n in l :\n",
        "  print(n, \"is in the list\")\n",
        "else :\n",
        "  print(n, \"isn't in the list\")"
      ],
      "id": "51ca5c9a"
    },
    {
      "cell_type": "markdown",
      "metadata": {
        "id": "d9557da7"
      },
      "source": [
        "**27- clear python list using different ways"
      ],
      "id": "d9557da7"
    },
    {
      "cell_type": "code",
      "execution_count": null,
      "metadata": {
        "id": "b69858a3",
        "colab": {
          "base_uri": "https://localhost:8080/"
        },
        "outputId": "8efba5c4-83d8-4630-d0cf-25533fca38ad"
      },
      "outputs": [
        {
          "output_type": "stream",
          "name": "stdout",
          "text": [
            "[2, 5, 9, 7]\n",
            "[]\n"
          ]
        }
      ],
      "source": [
        "l = [2, 5, 9, 7]\n",
        "print(l)\n",
        "l.clear()\n",
        "print(l)"
      ],
      "id": "b69858a3"
    },
    {
      "cell_type": "code",
      "source": [
        "l = [2, 5, 9, 7]\n",
        "print(l)\n",
        "i = 0\n",
        "while i < len(l) :\n",
        "  l.remove(l[i])\n",
        "print(l)"
      ],
      "metadata": {
        "colab": {
          "base_uri": "https://localhost:8080/"
        },
        "id": "qxmlDmMcKbJ0",
        "outputId": "780f3d51-fbe2-42b0-823f-d6c3ad3cfdb0"
      },
      "id": "qxmlDmMcKbJ0",
      "execution_count": null,
      "outputs": [
        {
          "output_type": "stream",
          "name": "stdout",
          "text": [
            "[2, 5, 9, 7]\n",
            "[]\n"
          ]
        }
      ]
    },
    {
      "cell_type": "code",
      "source": [
        "l = [2, 5, 9, 7]\n",
        "print(l)\n",
        "i = 0\n",
        "while i < len(l) :\n",
        "  l.pop()\n",
        "print(l)"
      ],
      "metadata": {
        "colab": {
          "base_uri": "https://localhost:8080/"
        },
        "id": "IvKbX8ebLI8F",
        "outputId": "afdbe09a-ef87-4f43-b298-aa05400da8be"
      },
      "id": "IvKbX8ebLI8F",
      "execution_count": null,
      "outputs": [
        {
          "output_type": "stream",
          "name": "stdout",
          "text": [
            "[2, 5, 9, 7]\n",
            "[]\n"
          ]
        }
      ]
    },
    {
      "cell_type": "markdown",
      "metadata": {
        "id": "52160e88"
      },
      "source": [
        "**28-remove duplicated elements from a list"
      ],
      "id": "52160e88"
    },
    {
      "cell_type": "code",
      "execution_count": null,
      "metadata": {
        "id": "5e362228",
        "colab": {
          "base_uri": "https://localhost:8080/"
        },
        "outputId": "72ab6417-412b-41a0-dcf0-016e7b197f13"
      },
      "outputs": [
        {
          "output_type": "stream",
          "name": "stdout",
          "text": [
            "[33, 5, 8, 15, 7, 33, 5, 5]\n",
            "[33, 5, 7, 8, 15]\n"
          ]
        }
      ],
      "source": [
        "l = [33, 5, 8, 15, 7, 33, 5, 5]\n",
        "print(l)\n",
        "s = set(l)\n",
        "l = list(s)\n",
        "print(l)"
      ],
      "id": "5e362228"
    },
    {
      "cell_type": "markdown",
      "metadata": {
        "id": "282337f7"
      },
      "source": [
        "**29-Given list values and keys list, convert these values to key value pairs in form of list of dictionaries. (Input : test_list = [“Gfg”, 3, “is”, 8], key_list = [“name”, “id”]\n",
        "Output : [{‘name’: ‘Gfg’, ‘id’: 3}, {‘name’: ‘is’, ‘id’: 8}])"
      ],
      "id": "282337f7"
    },
    {
      "cell_type": "code",
      "execution_count": null,
      "metadata": {
        "id": "4d4e2d28",
        "colab": {
          "base_uri": "https://localhost:8080/"
        },
        "outputId": "81d99a3d-b3b1-44cf-a56b-dac81955ee25"
      },
      "outputs": [
        {
          "output_type": "stream",
          "name": "stdout",
          "text": [
            "[{'name': 'Gfg', 'id': 3}, {'name': 'is', 'id': 8}]\n"
          ]
        }
      ],
      "source": [
        "test_list = ['Gfg', 3, 'is', 8]\n",
        "key_list = ['name', 'id']\n",
        "l = []\n",
        "dic = dict({})\n",
        "i = 0\n",
        "j = 0\n",
        "while i < len(key_list) :\n",
        "  dic[key_list[i]] = test_list[j]\n",
        "  i += 1\n",
        "  j += 1\n",
        "l.append(dic)\n",
        "i = 0\n",
        "j = -2\n",
        "dic = dict({})\n",
        "while i < len(key_list) :\n",
        "  dic[key_list[i]] = test_list[j]\n",
        "  i += 1\n",
        "  j += 1\n",
        "l.append(dic)\n",
        "print(l)"
      ],
      "id": "4d4e2d28"
    },
    {
      "cell_type": "markdown",
      "metadata": {
        "id": "c26b6e9f"
      },
      "source": [
        "**30-write a python program to count unique values inside a list using different ways"
      ],
      "id": "c26b6e9f"
    },
    {
      "cell_type": "code",
      "execution_count": null,
      "metadata": {
        "id": "72132667",
        "colab": {
          "base_uri": "https://localhost:8080/"
        },
        "outputId": "6bf553a9-bc1d-4314-e9e0-86c7cb29dee8"
      },
      "outputs": [
        {
          "output_type": "stream",
          "name": "stdout",
          "text": [
            "You have 1 unique values\n"
          ]
        }
      ],
      "source": [
        "l = [5, 8, 7, 5, 8]\n",
        "i = 0\n",
        "u = 0\n",
        "while i < len(l) :\n",
        "  x = l.count(l[i])\n",
        "  if x == 1 :\n",
        "    u += 1\n",
        "  i += 1\n",
        "print(f'You have {u} unique values')"
      ],
      "id": "72132667"
    },
    {
      "cell_type": "markdown",
      "metadata": {
        "id": "fed6677c"
      },
      "source": [
        "**31-write a python program Extract all elements with Frequency greater than K (Input : test_list = [4, 6, 4, 3, 3, 4, 3, 4, 3, 8], K = 3\n",
        "Output : [4, 3] )"
      ],
      "id": "fed6677c"
    },
    {
      "cell_type": "code",
      "execution_count": null,
      "metadata": {
        "id": "d81f3f9d",
        "colab": {
          "base_uri": "https://localhost:8080/"
        },
        "outputId": "1271b1a3-6174-42c3-aa29-7a040cb32a2a"
      },
      "outputs": [
        {
          "output_type": "stream",
          "name": "stdout",
          "text": [
            "[3, 4]\n"
          ]
        }
      ],
      "source": [
        "test_list = [4, 6, 4, 3, 3, 4, 3, 4, 3, 8]\n",
        "k = 3\n",
        "l = []\n",
        "s = set({})\n",
        "for i in range(0, len(test_list)) :\n",
        "  if test_list.count(test_list[i]) > k :\n",
        "    l.append(test_list[i])\n",
        "\n",
        "print(list(set(l)))"
      ],
      "id": "d81f3f9d"
    },
    {
      "cell_type": "markdown",
      "metadata": {
        "id": "caca5224"
      },
      "source": [
        "**32-write a python program to find the Strongest Neighbour (Input: 1 2 2 3 4 5\n",
        "Output: 2 2 3 4 5)"
      ],
      "id": "caca5224"
    },
    {
      "cell_type": "code",
      "execution_count": null,
      "metadata": {
        "id": "39fbd9b2",
        "colab": {
          "base_uri": "https://localhost:8080/"
        },
        "outputId": "a19d4bf7-afbf-4221-a8fd-52ae9b072b7b"
      },
      "outputs": [
        {
          "output_type": "stream",
          "name": "stdout",
          "text": [
            "2 2 3 4 5 "
          ]
        }
      ],
      "source": [
        "l = [1, 2, 2, 3, 4, 5]\n",
        "n = []\n",
        "for i in range(1, len(l)) :\n",
        "  r = max(l[i], l[i-1])\n",
        "  n.append(r)\n",
        "for j in range(0, len(n)) :\n",
        "  print(n[j], end=' ')"
      ],
      "id": "39fbd9b2"
    },
    {
      "cell_type": "markdown",
      "metadata": {
        "id": "a9fa8baf"
      },
      "source": [
        "**33-write a Python Program to print all Possible Combinations from the three Digits (Input: [1, 2, 3]\n",
        "Output:\n",
        "1 2 3 ##\n",
        "1 3 2 ##\n",
        "2 1 3 ##\n",
        "2 3 1 ##\n",
        "3 1 2 ##\n",
        "3 2 1)"
      ],
      "id": "a9fa8baf"
    },
    {
      "cell_type": "code",
      "execution_count": null,
      "metadata": {
        "id": "8c520a76",
        "colab": {
          "base_uri": "https://localhost:8080/"
        },
        "outputId": "e78178e9-1979-4a03-f87b-13cea9e3f8aa"
      },
      "outputs": [
        {
          "output_type": "stream",
          "name": "stdout",
          "text": [
            "111\n",
            "112\n",
            "113\n",
            "121\n",
            "122\n",
            "123\n",
            "131\n",
            "132\n",
            "133\n",
            "211\n",
            "212\n",
            "213\n",
            "221\n",
            "222\n",
            "223\n",
            "231\n",
            "232\n",
            "233\n",
            "311\n",
            "312\n",
            "313\n",
            "321\n",
            "322\n",
            "323\n",
            "331\n",
            "332\n",
            "333\n"
          ]
        }
      ],
      "source": [
        "l = [1, 2, 3]\n",
        "for i in l :\n",
        "  for j in l :\n",
        "    for k in l :\n",
        "      print(str(i)+str(j)+str(k))"
      ],
      "id": "8c520a76"
    },
    {
      "cell_type": "markdown",
      "metadata": {
        "id": "5288bb89"
      },
      "source": [
        "**34-write a Python program to find all the Combinations in the list with the given condition (Input: test_list = [1,2,3]\n",
        "Output:\n",
        " [1], [1, 2], [1, 2, 3], [1, 3]\n",
        " [2], [2, 3], [3])"
      ],
      "id": "5288bb89"
    },
    {
      "cell_type": "code",
      "execution_count": null,
      "metadata": {
        "id": "59b89646",
        "colab": {
          "base_uri": "https://localhost:8080/"
        },
        "outputId": "0fbe055e-ffd7-4ff2-d69a-fcbf2cf1032d"
      },
      "outputs": [
        {
          "output_type": "stream",
          "name": "stdout",
          "text": [
            "[1]\n",
            "[1, 2]\n",
            "[1, 2, 3]\n",
            "[2]\n",
            "[2, 1]\n",
            "[2, 1, 3]\n",
            "[3]\n",
            "[3, 2]\n",
            "[3, 2, 1]\n"
          ]
        }
      ],
      "source": [
        "l = [1, 2, 3]\n",
        "n = []\n",
        "\n",
        "for i in l :\n",
        "  n.append(i)\n",
        "  print(n)\n",
        "n = []\n",
        "for j in [2, 1, 3] :\n",
        "  n.append(j)\n",
        "  print(n)\n",
        "n = []\n",
        "for k in [3, 2, 1] :\n",
        "  n.append(k)\n",
        "  print(n)"
      ],
      "id": "59b89646"
    },
    {
      "cell_type": "markdown",
      "metadata": {
        "id": "39973705"
      },
      "source": [
        "**35-write a Python program to get all unique combinations of two Lists (List_1 = [\"a\",\"b\"]\n",
        "List_2 = [1,2]\n",
        "Unique_combination = [[('a',1),('b',2)],[('a',2),('b',1)]] )"
      ],
      "id": "39973705"
    },
    {
      "cell_type": "code",
      "execution_count": null,
      "metadata": {
        "id": "8c4ba22b",
        "colab": {
          "base_uri": "https://localhost:8080/"
        },
        "outputId": "18130523-1f70-4221-e1a6-905fa71ef6ee"
      },
      "outputs": [
        {
          "output_type": "stream",
          "name": "stdout",
          "text": [
            "[('a', 1), ('a', 2), ('b', 1), ('b', 2)]\n"
          ]
        }
      ],
      "source": [
        "l1 = ['a', 'b']\n",
        "l2 = [1, 2]\n",
        "n = []\n",
        "l3 = []\n",
        "for i in l1 :\n",
        "  for j in l2 :\n",
        "    n.append(i)\n",
        "    n.append(j)\n",
        "    l3.append(tuple(n))\n",
        "    n.clear()\n",
        "print(l3)"
      ],
      "id": "8c4ba22b"
    },
    {
      "cell_type": "markdown",
      "metadata": {
        "id": "25199af5"
      },
      "source": [
        "**36-Remove all the occurrences of an element from a list in Python (Input : 1 1 2 3 4 5 1 2 1\n",
        "\n",
        "**Output : 2 3 4 5 2)"
      ],
      "id": "25199af5"
    },
    {
      "cell_type": "code",
      "execution_count": null,
      "metadata": {
        "id": "6dc4c2ba",
        "colab": {
          "base_uri": "https://localhost:8080/"
        },
        "outputId": "eaf4f1ea-3905-41ad-cc51-d20c22ca27cb"
      },
      "outputs": [
        {
          "output_type": "stream",
          "name": "stdout",
          "text": [
            "[3, 4, 5]\n"
          ]
        }
      ],
      "source": [
        "l = [1,1,2,3,4,5,1,2,1]\n",
        "n = []\n",
        "for i in l :\n",
        "  if l.count(i) > 1 :\n",
        "    n.append(i)\n",
        "n = set(n)\n",
        "l = set(l)\n",
        "l = l - n\n",
        "print(list(l))"
      ],
      "id": "6dc4c2ba"
    },
    {
      "cell_type": "markdown",
      "metadata": {
        "id": "bf1a3c93"
      },
      "source": [
        "**37-write a python program to Replace index elements with elements in Other List (The original list 1 is : [‘Gfg’, ‘is’, ‘best’] The original list 2 is : [0, 1, 2, 1, 0, 0, 0, 2, 1, 1, 2, 0] The lists after index elements replacements is : [‘Gfg’, ‘is’, ‘best’, ‘is’, ‘Gfg’, ‘Gfg’, ‘Gfg’, ‘best’, ‘is’, ‘is’, ‘best’, ‘Gfg’])"
      ],
      "id": "bf1a3c93"
    },
    {
      "cell_type": "code",
      "execution_count": null,
      "metadata": {
        "id": "fdd66a71",
        "colab": {
          "base_uri": "https://localhost:8080/"
        },
        "outputId": "ef85696e-0ff1-43d9-93e6-ae356bf0d542"
      },
      "outputs": [
        {
          "output_type": "stream",
          "name": "stdout",
          "text": [
            "['Gfg', 'is', 'best', 'is', 'Gfg', 'Gfg', 'Gfg', 'best', 'is', 'is', 'best', 'Gfg']\n"
          ]
        }
      ],
      "source": [
        "l1 = ['Gfg', 'is', 'best']\n",
        "l2 = [0, 1, 2, 1, 0, 0, 0, 2, 1, 1, 2, 0]\n",
        "j = 0\n",
        "i = 0\n",
        "while j < len(l2) :\n",
        "  while i < len(l1) :\n",
        "    l2[j] = l1[l2[j]]\n",
        "    if i == len(l1) -1 :\n",
        "      i += 1\n",
        "    else :\n",
        "      i += 1\n",
        "      j += 1\n",
        "  i = 0\n",
        "  j += 1\n",
        "print(l2)"
      ],
      "id": "fdd66a71"
    },
    {
      "cell_type": "markdown",
      "metadata": {
        "id": "af0f56e8"
      },
      "source": [
        "**38- write python program to Retain records with N occurrences of K(Input : test_list = [(4, 5, 5, 4), (5, 4, 3)], K = 5, N = 2\n",
        "Output : [(4, 5, 5, 4)]\n",
        "Input : test_list = [(4, 5, 5, 4), (5, 4, 3)], K = 5, N = 3\n",
        "Output : [] )"
      ],
      "id": "af0f56e8"
    },
    {
      "cell_type": "code",
      "execution_count": null,
      "metadata": {
        "id": "67b06671",
        "colab": {
          "base_uri": "https://localhost:8080/"
        },
        "outputId": "b6e877b8-5ece-4716-c979-237b6e88a819"
      },
      "outputs": [
        {
          "output_type": "stream",
          "name": "stdout",
          "text": [
            "(4, 5, 5, 4)\n"
          ]
        }
      ],
      "source": [
        "l = [(4, 5, 5, 4), (5, 4, 3)]\n",
        "k = 5\n",
        "n = 2\n",
        "for i in range(0, len(l)) :\n",
        "  t = l[i]\n",
        "  if t.count(k) == n :\n",
        "    print(t)"
      ],
      "id": "67b06671"
    },
    {
      "cell_type": "markdown",
      "metadata": {
        "id": "de76f183"
      },
      "source": [
        "**39-write a Python Program to Sort the list according to the column using lambda\n",
        "array = [[1, 3, 3], [2, 1, 2], [3, 2, 1]]\n",
        "Output :\n",
        "Sorted array specific to column 0, [[1, 3, 3], [2, 1, 2], [3, 2, 1]]\n",
        "Sorted array specific to column 1, [[2, 1, 2], [3, 2, 1], [1, 3, 3]]\n",
        "Sorted array specific to column 2, [[3, 2, 1], [2, 1, 2], [1, 3, 3]]"
      ],
      "id": "de76f183"
    },
    {
      "cell_type": "code",
      "execution_count": null,
      "metadata": {
        "id": "dc883308",
        "colab": {
          "base_uri": "https://localhost:8080/"
        },
        "outputId": "86f128e4-51d2-407b-e375-29d8d716b75e"
      },
      "outputs": [
        {
          "output_type": "execute_result",
          "data": {
            "text/plain": [
              "[[1, 3, 3], [2, 1, 2], [3, 2, 1]]"
            ]
          },
          "metadata": {},
          "execution_count": 15
        }
      ],
      "source": [
        "l = [[1, 3, 3], [2, 1, 2], [3, 2, 1]]\n",
        "l[2].sort(reverse=True)\n",
        "lambda x : l[]"
      ],
      "id": "dc883308"
    },
    {
      "cell_type": "code",
      "execution_count": null,
      "metadata": {
        "id": "d2e7b31f"
      },
      "outputs": [],
      "source": [
        "**40- write a program to Sort Python Dictionaries by Key or Value\n",
        "Input:\n",
        "{'ravi': 10, 'rajnish': 9, 'sanjeev': 15, 'yash': 2, 'suraj': 32}\n",
        "\n",
        "Output:\n",
        "{'rajnish': 9, 'ravi': 10, 'sanjeev': 15, 'suraj': 32, 'yash': 2}"
      ],
      "id": "d2e7b31f"
    },
    {
      "cell_type": "code",
      "execution_count": null,
      "metadata": {
        "id": "a96db4a0",
        "colab": {
          "base_uri": "https://localhost:8080/"
        },
        "outputId": "eb2e9dfd-1bd5-47e6-f99c-2c8f18fdfabe"
      },
      "outputs": [
        {
          "output_type": "stream",
          "name": "stdout",
          "text": [
            "{'ravi': 10, 'rajnish': 9, 'sanjeev': 15, 'yash': 2, 'suraj': 32}\n",
            "sorted dictionary is :\n",
            "{'ravi': 10, 'rajnish': 10, 'sanjeev': 15, 'yash': 2, 'suraj': 2}\n"
          ]
        }
      ],
      "source": [
        "d = {'ravi': 10, 'rajnish': 9, 'sanjeev': 15, 'yash': 2, 'suraj': 32}\n",
        "print(d)\n",
        "for i in range(0, len(d)) :\n",
        "  l = list(d.keys())\n",
        "  n = list(d.values())\n",
        "  l.sort()\n",
        "  d[l[i]] = n[i]\n",
        "print('sorted dictionary is :')\n",
        "print(d)"
      ],
      "id": "a96db4a0"
    },
    {
      "cell_type": "markdown",
      "metadata": {
        "id": "ec63c23a"
      },
      "source": [
        "**41-write python program to Remove keys with Values Greater than K ( Including mixed values )\n",
        "nput : test_dict = {‘Gfg’ : 3, ‘is’ : 7, ‘best’ : 10, ‘for’ : 6, ‘geeks’ : ‘CS’},\n",
        "K = 7\n",
        "Output : {‘Gfg’ : 3, ‘for’ : 6, ‘geeks’ : ‘CS’}"
      ],
      "id": "ec63c23a"
    },
    {
      "cell_type": "code",
      "execution_count": null,
      "metadata": {
        "id": "e39c3a40",
        "colab": {
          "base_uri": "https://localhost:8080/"
        },
        "outputId": "cfb78a57-5ab0-42e3-c151-6de42f030845"
      },
      "outputs": [
        {
          "output_type": "stream",
          "name": "stdout",
          "text": [
            "{'Gfg': 3, 'for': 6, 'geeks': 'CS'}\n"
          ]
        }
      ],
      "source": [
        "d = {'Gfg' : 3, 'is' : 7, 'best' : 10, 'for' : 6, 'geeks' : 'CS'}\n",
        "k = 7\n",
        "key = list(d.keys())\n",
        "l = list(d.values())\n",
        "for i in l :\n",
        "  if type(i) is type(1) :\n",
        "    if i >= k :\n",
        "      v = l.index(i)\n",
        "      del d[key[v]]\n",
        "print(d)"
      ],
      "id": "e39c3a40"
    },
    {
      "cell_type": "markdown",
      "metadata": {
        "id": "f143f0fe"
      },
      "source": [
        "**42-Write a Python program to concatenate the following dictionaries to create a new one\n",
        "\n",
        "Sample Dictionary :\n",
        "dic1={1:10, 2:20}\n",
        "dic2={3:30, 4:40}\n",
        "dic3={5:50,6:60}\n",
        "Expected Result : {1: 10, 2: 20, 3: 30, 4: 40, 5: 50, 6: 60}"
      ],
      "id": "f143f0fe"
    },
    {
      "cell_type": "code",
      "execution_count": null,
      "metadata": {
        "id": "74ffdfea",
        "colab": {
          "base_uri": "https://localhost:8080/"
        },
        "outputId": "0b8c4105-d777-459d-8bf9-53cecb5dbdd9"
      },
      "outputs": [
        {
          "output_type": "stream",
          "name": "stdout",
          "text": [
            "{1: 10, 2: 20, 3: 30, 4: 40, 5: 50, 6: 60}\n"
          ]
        }
      ],
      "source": [
        "dic1 = {1:10, 2:20}; dic2 = {3:30, 4:40}; dic3 = {5:50,6:60}\n",
        "n = {}\n",
        "l1 = list(dic1)\n",
        "l2 = list(dic2)\n",
        "l3 = list(dic3)\n",
        "v1 = list(dic1.values())\n",
        "v2 = list(dic2.values())\n",
        "v3 = list(dic3.values())\n",
        "v4 = v1 + v2 + v3\n",
        "l4 = l1 + l2 + l3\n",
        "j = 0\n",
        "for i in l4 :\n",
        "  n[i] = v4[j]\n",
        "  j += 1\n",
        "print(n)"
      ],
      "id": "74ffdfea"
    },
    {
      "cell_type": "markdown",
      "metadata": {
        "id": "fb04c93c"
      },
      "source": [
        "**43-Write a Python program to iterate over dictionaries using for loops"
      ],
      "id": "fb04c93c"
    },
    {
      "cell_type": "code",
      "execution_count": null,
      "metadata": {
        "id": "6aebc470",
        "colab": {
          "base_uri": "https://localhost:8080/"
        },
        "outputId": "f92f0410-fba6-49fc-8b63-d8700599234f"
      },
      "outputs": [
        {
          "output_type": "stream",
          "name": "stdout",
          "text": [
            "num1\n",
            "num2\n",
            "num3\n"
          ]
        }
      ],
      "source": [
        "d = {1 : 'num1', 2 : 'num2', 3 : 'num3'}\n",
        "for i in d.keys() :\n",
        "  print(d[i])"
      ],
      "id": "6aebc470"
    },
    {
      "cell_type": "markdown",
      "metadata": {
        "id": "5f491a9d"
      },
      "source": [
        "**44- Write a Python script to merge two Python dictionaries"
      ],
      "id": "5f491a9d"
    },
    {
      "cell_type": "code",
      "execution_count": null,
      "metadata": {
        "id": "b8a14028",
        "colab": {
          "base_uri": "https://localhost:8080/"
        },
        "outputId": "3b45e919-0bb0-4e18-e564-680cddc030ff"
      },
      "outputs": [
        {
          "output_type": "execute_result",
          "data": {
            "text/plain": [
              "{1: 'num1', 2: 'num2', 3: 'num3', 4: 'num4', 5: 'num5', 6: 'num6'}"
            ]
          },
          "metadata": {},
          "execution_count": 64
        }
      ],
      "source": [
        "d1 = {1 : 'num1', 2 : 'num2', 3 : 'num3'}\n",
        "d2 = {4 : 'num4', 5 : 'num5', 6 : 'num6'}\n",
        "d = d1.copy()\n",
        "d = d.update(d2)\n",
        "print(d)"
      ],
      "id": "b8a14028"
    },
    {
      "cell_type": "markdown",
      "metadata": {
        "id": "216fc72d"
      },
      "source": [
        "**45-Write a Python program to get the maximum and minimum values of a dictionary values"
      ],
      "id": "216fc72d"
    },
    {
      "cell_type": "code",
      "execution_count": null,
      "metadata": {
        "id": "d6883f5f",
        "colab": {
          "base_uri": "https://localhost:8080/"
        },
        "outputId": "ff13a724-cfb2-43ef-9e2b-3a05c7dd8609"
      },
      "outputs": [
        {
          "output_type": "stream",
          "name": "stdout",
          "text": [
            "{'num1': 1, 'num2': 6, 'num3': 8, 'num4': 7}\n",
            "the maximum value is 8 and minimum is 1\n"
          ]
        }
      ],
      "source": [
        "d = {'num1' : 1, 'num2' : 6, 'num3' : 8, 'num4' : 7}\n",
        "print(d)\n",
        "l = list(d.values())\n",
        "m = max(l)\n",
        "n = min(l)\n",
        "print(f'the maximum value is {m} and minimum is {n}')"
      ],
      "id": "d6883f5f"
    },
    {
      "cell_type": "markdown",
      "metadata": {
        "id": "b6a53011"
      },
      "source": [
        "**46- Write a Python program to drop empty items from a given dictionary.\n",
        "Original Dictionary:\n",
        "{'c1': 'Red', 'c2': 'Green', 'c3': None}\n",
        "New Dictionary after dropping empty items:\n",
        "{'c1': 'Red', 'c2': 'Green'}"
      ],
      "id": "b6a53011"
    },
    {
      "cell_type": "code",
      "execution_count": null,
      "metadata": {
        "id": "b5c6fecf",
        "colab": {
          "base_uri": "https://localhost:8080/"
        },
        "outputId": "ce34223e-ca82-44b9-b0f5-125cd5141788"
      },
      "outputs": [
        {
          "output_type": "stream",
          "name": "stdout",
          "text": [
            "2\n",
            "{'c1': 'Red', 'c2': 'Green'}\n"
          ]
        }
      ],
      "source": [
        "d = {'c1': 'Red', 'c2': 'Green', 'c3': None}\n",
        "v = list(d.values())\n",
        "l = list(d.keys())\n",
        "for i in range(0, v.count(None)) :\n",
        "  x = v.index(None)\n",
        "  v.remove(None)\n",
        "  l.remove(l[x])\n",
        "  print(x)\n",
        "d.clear()\n",
        "k = 0\n",
        "while k < len(l) :\n",
        "  d[l[k]] = v[k]\n",
        "  k += 1\n",
        "print(d)"
      ],
      "id": "b5c6fecf"
    },
    {
      "cell_type": "markdown",
      "metadata": {
        "id": "46d718c7"
      },
      "source": [
        "**47-Write a Python program to create a tuple of numbers and print one item"
      ],
      "id": "46d718c7"
    },
    {
      "cell_type": "code",
      "execution_count": null,
      "metadata": {
        "id": "13216ff5",
        "colab": {
          "base_uri": "https://localhost:8080/"
        },
        "outputId": "bd018003-39b0-43b1-c3f5-1b46524164b9"
      },
      "outputs": [
        {
          "output_type": "stream",
          "name": "stdout",
          "text": [
            "(0, 1, 2, 3, 4, 5, 6, 7, 8, 9)\n"
          ]
        }
      ],
      "source": [
        "t = ()\n",
        "l = list(t)\n",
        "for i in range(0, 10) :\n",
        "  l.append(i)\n",
        "t = tuple(l)\n",
        "print(t)"
      ],
      "id": "13216ff5"
    },
    {
      "cell_type": "markdown",
      "metadata": {
        "id": "2be5b56b"
      },
      "source": [
        "**48-Write a Python program to unpack a tuple into several variables"
      ],
      "id": "2be5b56b"
    },
    {
      "cell_type": "code",
      "execution_count": null,
      "metadata": {
        "id": "595f44be",
        "colab": {
          "base_uri": "https://localhost:8080/"
        },
        "outputId": "ab1b2b47-a369-4647-c657-d68114fbc4ec"
      },
      "outputs": [
        {
          "output_type": "stream",
          "name": "stdout",
          "text": [
            "5\n",
            "6\n",
            "9\n"
          ]
        }
      ],
      "source": [
        "t = (5, 6, 9)\n",
        "a, b, c = t\n",
        "print(a)\n",
        "print(b)\n",
        "print(c)"
      ],
      "id": "595f44be"
    },
    {
      "cell_type": "markdown",
      "metadata": {
        "id": "392388a7"
      },
      "source": [
        "**49-Write a Python program to add an item to a tuple"
      ],
      "id": "392388a7"
    },
    {
      "cell_type": "code",
      "execution_count": null,
      "metadata": {
        "id": "54cc092e",
        "colab": {
          "base_uri": "https://localhost:8080/"
        },
        "outputId": "a07201d8-1762-4224-8c00-709291f2470c"
      },
      "outputs": [
        {
          "output_type": "stream",
          "name": "stdout",
          "text": [
            "(5, 6, 9)\n",
            "Enter an element 4\n",
            "(5, 6, 9, 4)\n"
          ]
        }
      ],
      "source": [
        "t = (5, 6, 9)\n",
        "print(t)\n",
        "i = int(input('Enter an element '))\n",
        "l = list(t)\n",
        "l.append(i)\n",
        "t = tuple(l)\n",
        "print(t)"
      ],
      "id": "54cc092e"
    },
    {
      "cell_type": "markdown",
      "metadata": {
        "id": "3e8fd124"
      },
      "source": [
        "**50-Write a Python program to convert a tuple to a string"
      ],
      "id": "3e8fd124"
    },
    {
      "cell_type": "code",
      "execution_count": null,
      "metadata": {
        "id": "92a71ddc",
        "colab": {
          "base_uri": "https://localhost:8080/"
        },
        "outputId": "674d8735-89d1-4ca8-9a4e-caf42e0b04c3"
      },
      "outputs": [
        {
          "output_type": "stream",
          "name": "stdout",
          "text": [
            "('m', 'o', 's', 't', 'a', 'f', 'a')\n",
            "mostafa\n"
          ]
        }
      ],
      "source": [
        "t = ('m', 'o', 's', 't', 'a', 'f', 'a')\n",
        "print(t)\n",
        "l = list(t)\n",
        "s = ''.join(l)\n",
        "print(s)"
      ],
      "id": "92a71ddc"
    },
    {
      "cell_type": "markdown",
      "metadata": {
        "id": "f4f64ef4"
      },
      "source": [
        "**51-Write a Python program to convert a list to a tuple"
      ],
      "id": "f4f64ef4"
    },
    {
      "cell_type": "code",
      "execution_count": null,
      "metadata": {
        "id": "210d56d3",
        "colab": {
          "base_uri": "https://localhost:8080/"
        },
        "outputId": "67977624-a4c6-4375-fa19-824599a92ab4"
      },
      "outputs": [
        {
          "output_type": "stream",
          "name": "stdout",
          "text": [
            "(5, 7, 'm', 9)\n"
          ]
        }
      ],
      "source": [
        "l = [5, 7, 'm', 9]\n",
        "t = tuple(l)\n",
        "print(t)"
      ],
      "id": "210d56d3"
    },
    {
      "cell_type": "markdown",
      "metadata": {
        "id": "b1e00ef7"
      },
      "source": [
        "**52-Write a Python program to reverse a tuple"
      ],
      "id": "b1e00ef7"
    },
    {
      "cell_type": "code",
      "execution_count": null,
      "metadata": {
        "id": "f45bfdc7",
        "colab": {
          "base_uri": "https://localhost:8080/"
        },
        "outputId": "6626f4fe-a0bb-4ee2-a5e1-30311f8bdd14"
      },
      "outputs": [
        {
          "output_type": "stream",
          "name": "stdout",
          "text": [
            "('m', 'o', 's', 't', 'a', 'f', 'a')\n",
            "('a', 'f', 'a', 't', 's', 'o', 'm')\n"
          ]
        }
      ],
      "source": [
        "t = ('m', 'o', 's', 't', 'a', 'f', 'a')\n",
        "print(t)\n",
        "l = list(t)\n",
        "l.reverse()\n",
        "t = tuple(l)\n",
        "print(t)"
      ],
      "id": "f45bfdc7"
    },
    {
      "cell_type": "markdown",
      "metadata": {
        "id": "3cd347d1"
      },
      "source": [
        "**53-Write a Python program to replace the last value of tuples in a list.\n",
        "Sample list: [(10, 20, 40), (40, 50, 60), (70, 80, 90)]\n",
        "Expected Output: [(10, 20, 100), (40, 50, 100), (70, 80, 100)]"
      ],
      "id": "3cd347d1"
    },
    {
      "cell_type": "code",
      "execution_count": null,
      "metadata": {
        "id": "3c4a2a4c",
        "colab": {
          "base_uri": "https://localhost:8080/"
        },
        "outputId": "2ee574f9-93df-4d20-c907-7f1e18b3d29c"
      },
      "outputs": [
        {
          "output_type": "stream",
          "name": "stdout",
          "text": [
            "[(10, 20, 40), (40, 50, 60), (70, 80, 90)]\n",
            "[(10, 20, 100), (40, 50, 100), (70, 80, 100)]\n"
          ]
        }
      ],
      "source": [
        "l = [(10, 20, 40), (40, 50, 60), (70, 80, 90)]\n",
        "print(l)\n",
        "n = []\n",
        "v = 100\n",
        "j = len(l[i]) - 1\n",
        "for i in range(0, len(l)) :\n",
        "  n.append(list(l[i]))\n",
        "  n[i][j] = v\n",
        "  n[i] = tuple(n[i])\n",
        "l = n\n",
        "print(l)"
      ],
      "id": "3c4a2a4c"
    },
    {
      "cell_type": "markdown",
      "metadata": {
        "id": "76bb7b39"
      },
      "source": [
        "**54-Write a Python program to convert a given string list to a tuple\n",
        "Original string: python 3.0\n",
        "<class 'str'>\n",
        "Convert the said string to a tuple:\n",
        "('p', 'y', 't', 'h', 'o', 'n', '3', '.', '0')"
      ],
      "id": "76bb7b39"
    },
    {
      "cell_type": "code",
      "execution_count": null,
      "metadata": {
        "id": "51951937",
        "colab": {
          "base_uri": "https://localhost:8080/"
        },
        "outputId": "24186bfb-3973-4b8c-c273-2f9725fd485b"
      },
      "outputs": [
        {
          "output_type": "execute_result",
          "data": {
            "text/plain": [
              "('p', 'y', 't', 'h', 'o', 'n', '3', '.', '0')"
            ]
          },
          "metadata": {},
          "execution_count": 27
        }
      ],
      "source": [
        "s = 'python3.0'\n",
        "t = tuple(s)\n",
        "t"
      ],
      "id": "51951937"
    },
    {
      "cell_type": "markdown",
      "metadata": {
        "id": "5a1d5d97"
      },
      "source": [
        "**55-Write a Python program to calculate the average value of the numbers in a given tuple of tuples"
      ],
      "id": "5a1d5d97"
    },
    {
      "cell_type": "code",
      "execution_count": null,
      "metadata": {
        "id": "834e7992",
        "colab": {
          "base_uri": "https://localhost:8080/"
        },
        "outputId": "1d48296e-6993-47c4-ee8a-8d6cd9884d84"
      },
      "outputs": [
        {
          "output_type": "stream",
          "name": "stdout",
          "text": [
            "The average is 5.29\n"
          ]
        }
      ],
      "source": [
        "t = ((2, 5, 9), (5, 1), (8, 7))\n",
        "l = list(t)\n",
        "s = 0\n",
        "n = 0\n",
        "for i in range(0, len(l)) :\n",
        "  s += sum(l[i])\n",
        "  n += len(l[i])\n",
        "avg = s / n\n",
        "print(f'The average is{avg : .2f}')"
      ],
      "id": "834e7992"
    },
    {
      "cell_type": "markdown",
      "metadata": {
        "id": "51edab9c"
      },
      "source": [
        "**56-Write a Python program to add member(s) to a set."
      ],
      "id": "51edab9c"
    },
    {
      "cell_type": "code",
      "execution_count": null,
      "metadata": {
        "id": "2b65df79",
        "colab": {
          "base_uri": "https://localhost:8080/"
        },
        "outputId": "bc80c43c-e083-41fb-f1fd-0386fafe2acb"
      },
      "outputs": [
        {
          "output_type": "stream",
          "name": "stdout",
          "text": [
            "{8, 5, 6}\n",
            "{8, 1, 5, 6}\n"
          ]
        }
      ],
      "source": [
        "s = {5, 6, 8}\n",
        "print(s)\n",
        "s.add(1)\n",
        "print(s)"
      ],
      "id": "2b65df79"
    },
    {
      "cell_type": "markdown",
      "metadata": {
        "id": "965590cc"
      },
      "source": [
        "**57-Write a Python program to remove an item from a set if it is present in the set."
      ],
      "id": "965590cc"
    },
    {
      "cell_type": "code",
      "execution_count": null,
      "metadata": {
        "id": "866bab28",
        "colab": {
          "base_uri": "https://localhost:8080/"
        },
        "outputId": "50acb62d-d7d9-4bc4-e087-c36ce1340c66"
      },
      "outputs": [
        {
          "output_type": "stream",
          "name": "stdout",
          "text": [
            "{8, 5, 6}\n",
            "{8, 5}\n"
          ]
        }
      ],
      "source": [
        "s = {5, 6, 8}\n",
        "print(s)\n",
        "n = 6\n",
        "if n in s :\n",
        "  s.remove(n)\n",
        "print(s)"
      ],
      "id": "866bab28"
    },
    {
      "cell_type": "markdown",
      "metadata": {
        "id": "2b7cfed1"
      },
      "source": [
        "**58-Write a Python program to create an intersection,union,difference and symmetric difference of sets"
      ],
      "id": "2b7cfed1"
    },
    {
      "cell_type": "code",
      "execution_count": null,
      "metadata": {
        "id": "7f94b7fe",
        "colab": {
          "base_uri": "https://localhost:8080/"
        },
        "outputId": "05232a23-a8a4-4e45-bac2-5a99b63988ea"
      },
      "outputs": [
        {
          "output_type": "stream",
          "name": "stdout",
          "text": [
            "a union b = {1, 2, 3, 4, 5, 6, 7}\n",
            "a intersection b = {1, 2, 3}\n",
            "b intersection a = {5, 6, 7}\n",
            "a symmetric difference b = {1, 2, 3, 5, 6, 7}\n"
          ]
        }
      ],
      "source": [
        "a = {1, 2, 3, 4}\n",
        "b = {4, 5, 6, 7}\n",
        "print(f'a union b = {a | b}')\n",
        "print(f'a intersection b = {a - b}')\n",
        "print(f'b intersection a = {b - a}')\n",
        "print(f'a symmetric difference b = {a ^ b}')"
      ],
      "id": "7f94b7fe"
    },
    {
      "cell_type": "markdown",
      "metadata": {
        "id": "b94931e2"
      },
      "source": [
        "**59-Write a Python program to find the maximum and minimum values in a set"
      ],
      "id": "b94931e2"
    },
    {
      "cell_type": "code",
      "execution_count": null,
      "metadata": {
        "id": "203f9600",
        "colab": {
          "base_uri": "https://localhost:8080/"
        },
        "outputId": "732d4ee8-39b1-4ef8-f837-117f568f51af"
      },
      "outputs": [
        {
          "output_type": "stream",
          "name": "stdout",
          "text": [
            "the maximum value is 11 and minimum is 5\n"
          ]
        }
      ],
      "source": [
        "s = {5, 6, 8, 11}\n",
        "m = max(s)\n",
        "n = min(s)\n",
        "print(f'the maximum value is {m} and minimum is {n}')"
      ],
      "id": "203f9600"
    },
    {
      "cell_type": "markdown",
      "metadata": {
        "id": "255fd554"
      },
      "source": [
        "**60- Write a Python program that finds all pairs of elements in a list whose sum is equal to a given value."
      ],
      "id": "255fd554"
    },
    {
      "cell_type": "code",
      "execution_count": null,
      "metadata": {
        "id": "c2d94e1f",
        "colab": {
          "base_uri": "https://localhost:8080/"
        },
        "outputId": "56ac9138-d307-4068-97b6-3f2888fe8fee"
      },
      "outputs": [
        {
          "output_type": "stream",
          "name": "stdout",
          "text": [
            "The values is 1 and 9 to get 10\n",
            "The values is 7 and 3 to get 10\n"
          ]
        }
      ],
      "source": [
        "l = [1, 7, 9, 5, 3]\n",
        "v =  10\n",
        "k = 0\n",
        "for i in l :\n",
        "  for j in range(k, len(l)) :\n",
        "    if i + l[j] == v :\n",
        "      print(f'The values is {i} and {l[j]} to get {v}')\n",
        "      continue\n",
        "    k += 1"
      ],
      "id": "c2d94e1f"
    }
  ],
  "metadata": {
    "colab": {
      "provenance": []
    },
    "kernelspec": {
      "display_name": "Python 3 (ipykernel)",
      "language": "python",
      "name": "python3"
    },
    "language_info": {
      "codemirror_mode": {
        "name": "ipython",
        "version": 3
      },
      "file_extension": ".py",
      "mimetype": "text/x-python",
      "name": "python",
      "nbconvert_exporter": "python",
      "pygments_lexer": "ipython3",
      "version": "3.9.7"
    }
  },
  "nbformat": 4,
  "nbformat_minor": 5
}