{
  "cells": [
    {
      "cell_type": "markdown",
      "id": "ff38aad7",
      "metadata": {
        "id": "ff38aad7"
      },
      "source": [
        "### 1-Write a Python program that takes two numbers as user input and performs addition on them."
      ]
    },
    {
      "cell_type": "code",
      "execution_count": 1,
      "id": "91696b79",
      "metadata": {
        "colab": {
          "base_uri": "https://localhost:8080/"
        },
        "id": "91696b79",
        "outputId": "a5c1e774-6f42-4adc-dd99-a8cb4f45833e"
      },
      "outputs": [
        {
          "output_type": "stream",
          "name": "stdout",
          "text": [
            "Enter Number 1 : 5\n",
            "Enter Number 2 : 7\n",
            "12\n"
          ]
        }
      ],
      "source": [
        "num1 = int(input(\"Enter Number 1 : \"))\n",
        "num2 = int(input(\"Enter Number 2 : \"))\n",
        "add = num1 + num2\n",
        "print(add)"
      ]
    },
    {
      "cell_type": "markdown",
      "id": "360854ff",
      "metadata": {
        "id": "360854ff"
      },
      "source": [
        "### 2-Write a Python program that takes an integer as input and checks if it is even or odd. Print \"Even\" if the number is divisible by 2, otherwise print \"Odd\"."
      ]
    },
    {
      "cell_type": "code",
      "execution_count": 2,
      "id": "ee4c35fe",
      "metadata": {
        "ExecuteTime": {
          "end_time": "2023-07-23T21:35:24.351946Z",
          "start_time": "2023-07-23T21:35:23.287212Z"
        },
        "colab": {
          "base_uri": "https://localhost:8080/"
        },
        "id": "ee4c35fe",
        "outputId": "93926de8-ef06-4c20-afb8-3c2f3fa712cc"
      },
      "outputs": [
        {
          "output_type": "stream",
          "name": "stdout",
          "text": [
            "Enter Number : 6\n",
            "Even\n"
          ]
        }
      ],
      "source": [
        "num = int(input(\"Enter Number : \"))\n",
        "if num % 2 == 0 :\n",
        "  print(\"Even\")\n",
        "else :\n",
        "  print(\"Odd\")"
      ]
    },
    {
      "cell_type": "markdown",
      "id": "6ea0354c",
      "metadata": {
        "id": "6ea0354c"
      },
      "source": [
        "### 3-Write a Python program that prints all the even numbers from 1 to 20 using a for loop"
      ]
    },
    {
      "cell_type": "code",
      "execution_count": 3,
      "id": "df43b7f5",
      "metadata": {
        "ExecuteTime": {
          "end_time": "2023-07-23T21:36:51.373589Z",
          "start_time": "2023-07-23T21:36:51.365580Z"
        },
        "colab": {
          "base_uri": "https://localhost:8080/"
        },
        "id": "df43b7f5",
        "outputId": "9ec6a511-bf5d-4a7e-cab3-f74aaea0c8c0"
      },
      "outputs": [
        {
          "output_type": "stream",
          "name": "stdout",
          "text": [
            "0\n",
            "2\n",
            "4\n",
            "6\n",
            "8\n",
            "10\n",
            "12\n",
            "14\n",
            "16\n",
            "18\n"
          ]
        }
      ],
      "source": [
        "for i in range(20) :\n",
        "  if i % 2 == 0 :\n",
        "    print(i)"
      ]
    },
    {
      "cell_type": "markdown",
      "id": "2d66bab2",
      "metadata": {
        "id": "2d66bab2"
      },
      "source": [
        "### 4-Write a Python function that takes a string as input and counts the number of vowels (a, e, i, o, u) in the string. The function should return the count"
      ]
    },
    {
      "cell_type": "code",
      "execution_count": 4,
      "id": "a37a84fd",
      "metadata": {
        "ExecuteTime": {
          "end_time": "2023-07-23T21:45:58.522044Z",
          "start_time": "2023-07-23T21:45:58.514370Z"
        },
        "colab": {
          "base_uri": "https://localhost:8080/"
        },
        "id": "a37a84fd",
        "outputId": "2797c658-68a2-4245-be44-01280e34927b"
      },
      "outputs": [
        {
          "output_type": "stream",
          "name": "stdout",
          "text": [
            "3\n"
          ]
        }
      ],
      "source": [
        "def vowel(s) :\n",
        "  c = 0\n",
        "  for i in s :\n",
        "    if i == \"a\" or i == \"e\" or i == \"i\" or i == \"o\" or i == \"u\" :\n",
        "      c += 1\n",
        "  return c\n",
        "n = vowel(\"mostafa\")\n",
        "print(n)"
      ]
    },
    {
      "cell_type": "markdown",
      "id": "a9a0ea06",
      "metadata": {
        "id": "a9a0ea06"
      },
      "source": [
        "### 5-Write a Python program that creates a list of numbers from 1 to 10. Use a loop to iterate over the list and print each number of power 2."
      ]
    },
    {
      "cell_type": "code",
      "execution_count": 5,
      "id": "6fa658cf",
      "metadata": {
        "ExecuteTime": {
          "end_time": "2023-07-23T21:48:02.328880Z",
          "start_time": "2023-07-23T21:48:02.314313Z"
        },
        "colab": {
          "base_uri": "https://localhost:8080/"
        },
        "id": "6fa658cf",
        "outputId": "3619d3c2-5248-4665-fb6f-ce64f436ee0c"
      },
      "outputs": [
        {
          "output_type": "stream",
          "name": "stdout",
          "text": [
            "[4, 9, 25, 1, 64, 49, 81, 16, 100]\n"
          ]
        }
      ],
      "source": [
        "l = [2, 3, 5, 1, 8, 7, 9, 4, 10]\n",
        "n = []\n",
        "for i in l :\n",
        "  n.append(i * i)\n",
        "print(n)"
      ]
    },
    {
      "cell_type": "markdown",
      "id": "430c9df9",
      "metadata": {
        "id": "430c9df9"
      },
      "source": [
        "### 6-Write a Python program that calculates the average grade for a student based on their scores in different subjects. The program should include the following steps:\n",
        "\n",
        "#### 1-Create variables to store the student's name, subject names, and corresponding scores. Initialize the variables with sample data.\n",
        "\n",
        "#### 2-Prompt the user to enter the student's name and assign it to the name variable.\n",
        "\n",
        "#### 3-Use a loop to prompt the user to enter the subject names and corresponding scores. Store the subject names in a list and the scores in another list.\n",
        "\n",
        "#### 4-After collecting the scores, calculate the average grade by summing up all the scores and dividing by the total number of subjects.\n",
        "\n",
        "#### 5-Check if the average grade is above a 70, print a congratulatory message. Otherwise, print an encouragement message."
      ]
    },
    {
      "cell_type": "code",
      "execution_count": 6,
      "id": "e0254271",
      "metadata": {
        "ExecuteTime": {
          "end_time": "2023-07-15T16:16:17.066909Z",
          "start_time": "2023-07-15T16:16:07.636799Z"
        },
        "colab": {
          "base_uri": "https://localhost:8080/"
        },
        "id": "e0254271",
        "outputId": "3ab14d36-35d5-4dfb-ee91-faeb920948b6"
      },
      "outputs": [
        {
          "output_type": "stream",
          "name": "stdout",
          "text": [
            "Enter the student name mostafa\n",
            "Is there another subject y or n y\n",
            "Enter the subject name math\n",
            "Enter the subject score 85\n",
            "Is there another subject y or n y\n",
            "Enter the subject name arabic\n",
            "Enter the subject score 75\n",
            "Is there another subject y or n n\n",
            "congratulation ^_^ your score is higher than 70\n"
          ]
        }
      ],
      "source": [
        "name = \"\"\n",
        "sub = []\n",
        "score = []\n",
        "avg = 0\n",
        "name = input(\"Enter the student name \")\n",
        "f = \"y\"\n",
        "while f == \"y\" :\n",
        "  f = input(\"Is there another subject y or n \")\n",
        "  if f == \"n\" :\n",
        "    break\n",
        "  else :\n",
        "    s = input(\"Enter the subject name \")\n",
        "    sub.append(s)\n",
        "    c = int(input(\"Enter the subject score \"))\n",
        "    score.append(c)\n",
        "avg = sum(score) / len(score)\n",
        "if avg > 70 :\n",
        "  print(\"congratulation ^_^ your score is higher than 70\")\n",
        "else :\n",
        "  print(\"Sorry ! your score is less than 70\")"
      ]
    },
    {
      "cell_type": "markdown",
      "id": "ae9df360",
      "metadata": {
        "id": "ae9df360"
      },
      "source": [
        "### 7-Find Common Elements\n",
        "### Write a Python function that takes two lists as input and returns a new list containing the common elements present in both lists."
      ]
    },
    {
      "cell_type": "code",
      "execution_count": 7,
      "id": "d030c3c0",
      "metadata": {
        "ExecuteTime": {
          "end_time": "2023-07-23T22:08:16.794474Z",
          "start_time": "2023-07-23T22:08:16.775639Z"
        },
        "colab": {
          "base_uri": "https://localhost:8080/"
        },
        "id": "d030c3c0",
        "outputId": "c4e3ee76-e63c-4fc0-d4ee-a30fed6d3f24"
      },
      "outputs": [
        {
          "output_type": "stream",
          "name": "stdout",
          "text": [
            "[10]\n"
          ]
        }
      ],
      "source": [
        "def common(l1, l2) :\n",
        "  i = 0\n",
        "  j = 0\n",
        "  l3 = []\n",
        "  while i < len(l1) :\n",
        "    while j < len(l2) :\n",
        "      if l1[i] == l2[j] :\n",
        "        l3.append(l1[i])\n",
        "      j += 1\n",
        "    i += 1\n",
        "  return l3\n",
        "l = [10, 15, 3]\n",
        "n = [2, 5, 10, 6]\n",
        "c = []\n",
        "c = common(l, n)\n",
        "print(c)"
      ]
    },
    {
      "cell_type": "markdown",
      "id": "9a2f34cb",
      "metadata": {
        "id": "9a2f34cb"
      },
      "source": [
        "### 8-Write a Python function that takes a list of numbers and an element to remove from the list."
      ]
    },
    {
      "cell_type": "code",
      "execution_count": 8,
      "id": "78de9fe8",
      "metadata": {
        "ExecuteTime": {
          "end_time": "2023-07-23T22:21:36.514592Z",
          "start_time": "2023-07-23T22:21:36.505437Z"
        },
        "colab": {
          "base_uri": "https://localhost:8080/"
        },
        "id": "78de9fe8",
        "outputId": "276c7dba-f877-43f9-9d53-d2270a1208d0"
      },
      "outputs": [
        {
          "output_type": "stream",
          "name": "stdout",
          "text": [
            "[10, 5, 7]\n"
          ]
        }
      ],
      "source": [
        "def rem(l, n) :\n",
        "  l.remove(n)\n",
        "ll = [10, 5, 6, 7]\n",
        "rem(ll, 6)\n",
        "print(ll)"
      ]
    },
    {
      "cell_type": "markdown",
      "id": "f1658f3b",
      "metadata": {
        "ExecuteTime": {
          "end_time": "2023-07-23T22:18:08.230185Z",
          "start_time": "2023-07-23T22:18:08.224220Z"
        },
        "id": "f1658f3b"
      },
      "source": [
        "### 9-Given 4 numbers A, B, C and D. Print the last 2 digits from their Multiplication.\n",
        "### Example :\n",
        "### the Multiplication of 4 numbers is 5 * 7 * 2 * 4 = 280 so the answer will be the last 2 digits which are 80."
      ]
    },
    {
      "cell_type": "code",
      "execution_count": 9,
      "id": "e3acbe03",
      "metadata": {
        "ExecuteTime": {
          "end_time": "2023-07-23T22:26:11.183016Z",
          "start_time": "2023-07-23T22:26:03.981069Z"
        },
        "colab": {
          "base_uri": "https://localhost:8080/"
        },
        "id": "e3acbe03",
        "outputId": "a65f096e-c8ea-4a34-e172-558242a0b26c"
      },
      "outputs": [
        {
          "output_type": "stream",
          "name": "stdout",
          "text": [
            "Enter number 1 : 5\n",
            "Enter number 2 : 8\n",
            "Enter number 3 : 9\n",
            "Enter number 4 : 4\n",
            "40\n"
          ]
        }
      ],
      "source": [
        "n1 = int(input(\"Enter number 1 : \"))\n",
        "n2 = int(input(\"Enter number 2 : \"))\n",
        "n3 = int(input(\"Enter number 3 : \"))\n",
        "n4 = int(input(\"Enter number 4 : \"))\n",
        "\n",
        "mul = str(n1 * n2 * n3 * n4) # 5*8*9*4 = 1440\n",
        "print(mul[-2] + mul[-1])"
      ]
    },
    {
      "cell_type": "markdown",
      "id": "d7ab15bb",
      "metadata": {
        "ExecuteTime": {
          "end_time": "2023-07-23T22:26:14.833712Z",
          "start_time": "2023-07-23T22:26:14.819130Z"
        },
        "id": "d7ab15bb"
      },
      "source": [
        "### 10- Given a number X. Determine if the number is prime or not"
      ]
    },
    {
      "cell_type": "code",
      "execution_count": 10,
      "id": "59b27f0a",
      "metadata": {
        "ExecuteTime": {
          "end_time": "2023-07-23T22:35:25.933766Z",
          "start_time": "2023-07-23T22:35:24.168681Z"
        },
        "colab": {
          "base_uri": "https://localhost:8080/"
        },
        "id": "59b27f0a",
        "outputId": "ba01d716-0650-4d3e-b14c-94583c0437c3"
      },
      "outputs": [
        {
          "output_type": "stream",
          "name": "stdout",
          "text": [
            "Enter a number : 7\n",
            "is a prime number\n"
          ]
        }
      ],
      "source": [
        "num = int(input(\"Enter a number : \"))\n",
        "flag = False\n",
        "if num == 1:\n",
        "    print(\"is not a prime number\")\n",
        "elif num > 1:\n",
        "    # check for factors\n",
        "    for i in range(2, num):\n",
        "        if (num % i) == 0:\n",
        "            flag = True\n",
        "            break\n",
        "    if flag:\n",
        "        print(\"is not a prime number\")\n",
        "    else:\n",
        "        print(\"is a prime number\")"
      ]
    },
    {
      "cell_type": "markdown",
      "id": "e1d1dcf9",
      "metadata": {
        "id": "e1d1dcf9"
      },
      "source": [
        "### 11- Given a number N and a list A of N numbers. Determine if the number X exists in array A or not and print its position (0-index)."
      ]
    },
    {
      "cell_type": "code",
      "execution_count": 13,
      "id": "2b002b0e",
      "metadata": {
        "ExecuteTime": {
          "end_time": "2023-07-23T22:53:41.474835Z",
          "start_time": "2023-07-23T22:53:41.458293Z"
        },
        "colab": {
          "base_uri": "https://localhost:8080/"
        },
        "id": "2b002b0e",
        "outputId": "42a44f71-2df9-48d5-ee02-e72b7cb903c1"
      },
      "outputs": [
        {
          "output_type": "stream",
          "name": "stdout",
          "text": [
            "Enter a number : 10\n",
            "Not found\n"
          ]
        }
      ],
      "source": [
        "num = int(input(\"Enter a number : \"))\n",
        "l = [1, 5, 6, 15]\n",
        "d = 0\n",
        "flag = False\n",
        "for i in l :\n",
        "  if num == i :\n",
        "    print(\"The index of\", num, \"is\", d)\n",
        "    flag = True\n",
        "    break\n",
        "  d += 1\n",
        "if flag == False :\n",
        "    print(\"Not found\")"
      ]
    },
    {
      "cell_type": "markdown",
      "id": "f2ec854b",
      "metadata": {
        "id": "f2ec854b"
      },
      "source": [
        "### 12- Given a number N and a list A of N numbers. Determine if the array is lucky or not.\n",
        "\n",
        "#### Note: the array is lucky if the frequency (number of occurrence) of the minimum element is odd."
      ]
    },
    {
      "cell_type": "code",
      "execution_count": 14,
      "id": "0c4f7f4b",
      "metadata": {
        "ExecuteTime": {
          "end_time": "2023-07-23T23:02:02.490192Z",
          "start_time": "2023-07-23T23:02:02.476874Z"
        },
        "colab": {
          "base_uri": "https://localhost:8080/"
        },
        "id": "0c4f7f4b",
        "outputId": "67843a17-08a2-4c68-f29b-1bc555d18f28"
      },
      "outputs": [
        {
          "output_type": "stream",
          "name": "stdout",
          "text": [
            "The list is lucky\n"
          ]
        }
      ],
      "source": [
        "l = [12, 5, 6, 7, 5, 5]\n",
        "j = 0\n",
        "for i in l :\n",
        "  if i == min(l) :\n",
        "    j += 1\n",
        "if j % 2 == 0 :\n",
        "  print(\"The list isn't lucky\")\n",
        "else :\n",
        "  print(\"The list is lucky\")"
      ]
    },
    {
      "cell_type": "markdown",
      "id": "e1ce1ae5",
      "metadata": {
        "id": "e1ce1ae5"
      },
      "source": [
        "### 13-Given a number N and a list A of N numbers. Print the array after doing the following operations:\n",
        "\n",
        "#### Find minimum number in these numbers.\n",
        "#### Find maximum number in these numbers.\n",
        "##### Swap minimum number with maximum number."
      ]
    },
    {
      "cell_type": "code",
      "execution_count": 15,
      "id": "e0d6e639",
      "metadata": {
        "ExecuteTime": {
          "end_time": "2023-07-23T23:10:04.293733Z",
          "start_time": "2023-07-23T23:10:04.280256Z"
        },
        "colab": {
          "base_uri": "https://localhost:8080/"
        },
        "id": "e0d6e639",
        "outputId": "d5c506a1-1517-4c93-95e4-1ec9555a9742"
      },
      "outputs": [
        {
          "output_type": "stream",
          "name": "stdout",
          "text": [
            "the minimum is 4\n",
            "the maximum is 11\n",
            "After Swapping \n",
            "the minimum is 11\n"
          ]
        }
      ],
      "source": [
        "l = [10, 11, 4, 6, 5]\n",
        "n = min(l)\n",
        "x = max(l)\n",
        "print(\"the minimum is\", n)\n",
        "print(\"the maximum is\", x)\n",
        "n, x = x, n\n",
        "print(\"After Swapping \")\n",
        "print(\"the minimum is\", n)"
      ]
    },
    {
      "cell_type": "markdown",
      "id": "9eb8e9c5",
      "metadata": {
        "ExecuteTime": {
          "end_time": "2023-07-23T23:10:06.436833Z",
          "start_time": "2023-07-23T23:10:06.422086Z"
        },
        "id": "9eb8e9c5"
      },
      "source": [
        "### 14-Given a number N and an array A of N numbers. Print the lowest number and its position.\n",
        "\n",
        "### Note: if there are more than one answer print first one's position."
      ]
    },
    {
      "cell_type": "code",
      "execution_count": 16,
      "id": "018e01c8",
      "metadata": {
        "ExecuteTime": {
          "end_time": "2023-07-23T23:20:38.498527Z",
          "start_time": "2023-07-23T23:20:38.490451Z"
        },
        "colab": {
          "base_uri": "https://localhost:8080/"
        },
        "id": "018e01c8",
        "outputId": "873a4016-2142-434d-ade4-5fc03bad789b"
      },
      "outputs": [
        {
          "output_type": "stream",
          "name": "stdout",
          "text": [
            "The lowest value is 1 and it's index is 3\n"
          ]
        }
      ],
      "source": [
        "l = [5, 6, 8, 1, 6, 1]\n",
        "min = min(l)\n",
        "i = l.index(min)\n",
        "print(\"The lowest value is\", min,\"and it's index is\", i)"
      ]
    },
    {
      "cell_type": "markdown",
      "id": "f35d3427",
      "metadata": {
        "ExecuteTime": {
          "end_time": "2023-07-23T23:20:55.880128Z",
          "start_time": "2023-07-23T23:20:55.861804Z"
        },
        "id": "f35d3427"
      },
      "source": [
        "### 15-Given a number N and an array A of N numbers. Print the numbers after sorting them"
      ]
    },
    {
      "cell_type": "code",
      "execution_count": 17,
      "id": "a6e0edd4",
      "metadata": {
        "ExecuteTime": {
          "end_time": "2023-07-23T23:46:13.340484Z",
          "start_time": "2023-07-23T23:46:13.324468Z"
        },
        "colab": {
          "base_uri": "https://localhost:8080/"
        },
        "id": "a6e0edd4",
        "outputId": "d201a681-7bec-459f-d24b-65a3f0f15fcf"
      },
      "outputs": [
        {
          "output_type": "stream",
          "name": "stdout",
          "text": [
            "[1, 4, 5, 9]\n"
          ]
        }
      ],
      "source": [
        "l = [5, 1, 4, 9]\n",
        "l.sort()\n",
        "print(l)"
      ]
    },
    {
      "cell_type": "markdown",
      "id": "a172f354",
      "metadata": {
        "ExecuteTime": {
          "end_time": "2023-07-23T23:46:15.127981Z",
          "start_time": "2023-07-23T23:46:15.108766Z"
        },
        "id": "a172f354"
      },
      "source": [
        "### 16- Write a Python program to remove spaces from a given string"
      ]
    },
    {
      "cell_type": "code",
      "execution_count": 18,
      "id": "36d3569d",
      "metadata": {
        "ExecuteTime": {
          "end_time": "2023-07-23T23:50:06.443640Z",
          "start_time": "2023-07-23T23:50:01.592919Z"
        },
        "colab": {
          "base_uri": "https://localhost:8080/"
        },
        "id": "36d3569d",
        "outputId": "44bcd660-56f5-46a3-eed9-1cb9866ef4a0"
      },
      "outputs": [
        {
          "output_type": "stream",
          "name": "stdout",
          "text": [
            "Thisisatest\n"
          ]
        }
      ],
      "source": [
        "s = \"This is a test\"\n",
        "l = s.split()\n",
        "print(\"\".join(l))"
      ]
    },
    {
      "cell_type": "markdown",
      "id": "a5470d49",
      "metadata": {
        "id": "a5470d49"
      },
      "source": [
        "### 17-write a Python program to swap first and last element of any list."
      ]
    },
    {
      "cell_type": "code",
      "execution_count": 19,
      "id": "9d73887b",
      "metadata": {
        "ExecuteTime": {
          "end_time": "2023-07-23T23:50:59.283429Z",
          "start_time": "2023-07-23T23:50:59.272096Z"
        },
        "colab": {
          "base_uri": "https://localhost:8080/"
        },
        "id": "9d73887b",
        "outputId": "a65a9f60-4122-4ad0-8f42-9c43608e05ca"
      },
      "outputs": [
        {
          "output_type": "stream",
          "name": "stdout",
          "text": [
            "[5, 7, 8, 10]\n",
            "[10, 7, 8, 5]\n"
          ]
        }
      ],
      "source": [
        "l = [5, 7, 8, 10]\n",
        "print(l)\n",
        "l[0], l[-1] = l[-1], l[0]\n",
        "print(l)"
      ]
    },
    {
      "cell_type": "markdown",
      "id": "1ae6cf8e",
      "metadata": {
        "ExecuteTime": {
          "end_time": "2023-07-23T23:51:34.302184Z",
          "start_time": "2023-07-23T23:51:34.285461Z"
        },
        "id": "1ae6cf8e"
      },
      "source": [
        "### 18- Write a Python program to add member(s) to a set."
      ]
    },
    {
      "cell_type": "code",
      "execution_count": 20,
      "id": "3e905e5b",
      "metadata": {
        "colab": {
          "base_uri": "https://localhost:8080/"
        },
        "id": "3e905e5b",
        "outputId": "557ca2cc-0903-41c7-effe-a680729172fc"
      },
      "outputs": [
        {
          "output_type": "stream",
          "name": "stdout",
          "text": [
            "{'a', 'b', 'c'}\n",
            "{'d', 'a', 'e', 'c', 'b'}\n"
          ]
        }
      ],
      "source": [
        "s = {\"a\", \"b\", \"c\"}\n",
        "print(s)\n",
        "s.add(\"d\")\n",
        "s.add(\"e\")\n",
        "print(s)"
      ]
    },
    {
      "cell_type": "markdown",
      "id": "db811fec",
      "metadata": {
        "id": "db811fec"
      },
      "source": [
        "### 19-Write a Python program to remove an item from a set if it is present in the set"
      ]
    },
    {
      "cell_type": "code",
      "execution_count": 21,
      "id": "daa40ca6",
      "metadata": {
        "colab": {
          "base_uri": "https://localhost:8080/"
        },
        "id": "daa40ca6",
        "outputId": "bfc46776-b2fb-4dc4-d1a6-4a7d7e35623e"
      },
      "outputs": [
        {
          "output_type": "stream",
          "name": "stdout",
          "text": [
            "{'third', 'first', 'srcond', 'fourth'}\n",
            "{'first', 'srcond', 'fourth'}\n"
          ]
        }
      ],
      "source": [
        "s = {\"first\", \"srcond\", \"third\", \"fourth\"}\n",
        "print(s)\n",
        "s.remove(\"third\")\n",
        "print(s)"
      ]
    },
    {
      "cell_type": "markdown",
      "id": "240c9bde",
      "metadata": {
        "id": "240c9bde"
      },
      "source": [
        "### 20-Write a Python program to get the maximum and minimum values of a dictionary values"
      ]
    },
    {
      "cell_type": "code",
      "execution_count": 1,
      "id": "4b767f24",
      "metadata": {
        "ExecuteTime": {
          "end_time": "2023-07-23T23:56:35.117528Z",
          "start_time": "2023-07-23T23:56:35.105969Z"
        },
        "colab": {
          "base_uri": "https://localhost:8080/"
        },
        "id": "4b767f24",
        "outputId": "38d51322-b403-451a-bd15-8b5892d6d9b4"
      },
      "outputs": [
        {
          "output_type": "stream",
          "name": "stdout",
          "text": [
            "The minimum value is 3\n",
            "The maximum value is 10\n"
          ]
        }
      ],
      "source": [
        "r = {\"first\" : 5, \"second\" : 7, \"third\" : 3, \"fourth\" : 10}\n",
        "l = list(r.values())\n",
        "print(\"The minimum value is\", min(l))\n",
        "print(\"The maximum value is\", max(l))"
      ]
    },
    {
      "cell_type": "markdown",
      "id": "f1d3a246",
      "metadata": {
        "id": "f1d3a246"
      },
      "source": [
        "### 21-Write a Python program to drop empty items from a given dictionary.Original Dictionary:{'c1': 'Red', 'c2': 'Green', 'c3': None}New Dictionary after dropping empty items:{'c1': 'Red', 'c2': 'Green'}"
      ]
    },
    {
      "cell_type": "code",
      "execution_count": 2,
      "id": "7c2a5807",
      "metadata": {
        "colab": {
          "base_uri": "https://localhost:8080/"
        },
        "id": "7c2a5807",
        "outputId": "15b5d6a3-5f9d-49ae-8925-b2726c14984c"
      },
      "outputs": [
        {
          "output_type": "stream",
          "name": "stdout",
          "text": [
            "{'c1': 'Red', 'c2': 'Green'}\n"
          ]
        }
      ],
      "source": [
        "r = {'c1': 'Red', 'c2': 'Green', 'c3': None}\n",
        "l = list(r.values())\n",
        "n = l.index(None)\n",
        "l = list(r.items())\n",
        "del l[n]\n",
        "r = dict(l)\n",
        "print(r)"
      ]
    }
  ],
  "metadata": {
    "kernelspec": {
      "display_name": "Python 3 (ipykernel)",
      "language": "python",
      "name": "python3"
    },
    "language_info": {
      "codemirror_mode": {
        "name": "ipython",
        "version": 3
      },
      "file_extension": ".py",
      "mimetype": "text/x-python",
      "name": "python",
      "nbconvert_exporter": "python",
      "pygments_lexer": "ipython3",
      "version": "3.9.12"
    },
    "colab": {
      "provenance": []
    }
  },
  "nbformat": 4,
  "nbformat_minor": 5
}