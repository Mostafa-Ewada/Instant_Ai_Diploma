{
  "nbformat": 4,
  "nbformat_minor": 0,
  "metadata": {
    "colab": {
      "provenance": []
    },
    "kernelspec": {
      "name": "python3",
      "display_name": "Python 3"
    },
    "language_info": {
      "name": "python"
    }
  },
  "cells": [
    {
      "cell_type": "markdown",
      "source": [
        "# Session 2 Tasks"
      ],
      "metadata": {
        "id": "N8blBjfzqU6I"
      }
    },
    {
      "cell_type": "markdown",
      "source": [
        "1. Create 3 variables to store street, city and country, now create address variable to\n",
        "store entire address. Use two ways of creating this variable, one using + operator and the other using f-string.\n",
        "Now Print the address in such a way that the street, city and country prints in a separate line\n",
        "2. Create a variable to store the string \"Earth revolves around the sun\"\n",
        "    1. Print \"revolves\" using slice operator\n",
        "    2. Print \"sun\" using negative index\n",
        "3. Create two variables to store how many fruits and vegetables you eat in a day.\n",
        "Now Print \"I eat x veggies and y fruits daily\" where x and y presents vegetables and fruits that you eat everyday. Use python f string for this.\n",
        "4. I have a string variable called s='maine 200 banana khaye'. This of course is a\n",
        "wrong statement, the correct statement is 'maine 10 samosa khaye'.\n",
        "Replace incorrect words in original strong with new ones and print the new string.\n",
        "Also try to do this in one line.\n"
      ],
      "metadata": {
        "id": "10XjML4cqZa4"
      }
    },
    {
      "cell_type": "code",
      "execution_count": 1,
      "metadata": {
        "id": "P4EUN6nuqUPf",
        "colab": {
          "base_uri": "https://localhost:8080/"
        },
        "outputId": "b0421427-d6fd-467d-b59a-36ffbb4179ed"
      },
      "outputs": [
        {
          "output_type": "stream",
          "name": "stdout",
          "text": [
            "Enter the street general street\n",
            "Enter the city teta\n",
            "Enter the country Egypt\n",
            "general street\n",
            "teta\n",
            "Egypt\n"
          ]
        }
      ],
      "source": [
        "street = input(\"Enter the street \")\n",
        "city = input(\"Enter the city \")\n",
        "country = input(\"Enter the country \")\n",
        "\n",
        "address1 = street + city + country\n",
        "address2 = f\"{street} {city} {country}\"\n",
        "\n",
        "print(street+\"\\n\"+city+\"\\n\"+country)"
      ]
    },
    {
      "cell_type": "code",
      "source": [
        "s = \"Earth revolves around the sun\"\n",
        "print(s[6 : 15])\n",
        "print(s[-3 : ])"
      ],
      "metadata": {
        "colab": {
          "base_uri": "https://localhost:8080/"
        },
        "id": "Oe8Y18GVi4Hg",
        "outputId": "4f90b61f-6e16-4dc8-c464-babdf335c9f5"
      },
      "execution_count": 2,
      "outputs": [
        {
          "output_type": "stream",
          "name": "stdout",
          "text": [
            "revolves \n",
            "sun\n"
          ]
        }
      ]
    },
    {
      "cell_type": "code",
      "source": [
        "x = 10\n",
        "y = 6\n",
        "print(f\"I eat {x} veggies and {y} fruits daily\")"
      ],
      "metadata": {
        "colab": {
          "base_uri": "https://localhost:8080/"
        },
        "id": "5etWOUXXi649",
        "outputId": "44c5dd18-4582-4146-9b18-df8ac052e977"
      },
      "execution_count": 3,
      "outputs": [
        {
          "output_type": "stream",
          "name": "stdout",
          "text": [
            "I eat 10 veggies and 6 fruits daily\n"
          ]
        }
      ]
    },
    {
      "cell_type": "code",
      "source": [
        "s = 'maine 200 banana khaye'\n",
        "s = 'maine '+'10'+' samosa'+' khaye'\n",
        "print(s)"
      ],
      "metadata": {
        "colab": {
          "base_uri": "https://localhost:8080/"
        },
        "id": "nX8nYkzli-R0",
        "outputId": "ea225876-12bf-4691-ca1c-729f81ddfb53"
      },
      "execution_count": 4,
      "outputs": [
        {
          "output_type": "stream",
          "name": "stdout",
          "text": [
            "maine 10 samosa khaye\n"
          ]
        }
      ]
    },
    {
      "cell_type": "markdown",
      "source": [
        "1. Let us say your expense for every month are listed below.\n",
        "\t  1. January -  2200\n",
        "    2. February - 2350\n",
        "    3. March - 2600\n",
        "    4. April - 2130\n",
        "    5. May - 2190\n",
        "\n",
        "Create a list to store these monthly expenses and using that find out,\n",
        "\n",
        "    1. In Feb, how many dollars you spent extra compare to January?\n",
        "    2. Find out your total expense in first quarter (first three months) of the year.\n",
        "    3. Find out if you spent exactly 2000 dollars in any month\n",
        "    4. June month just finished and your expense is 1980 dollar. Add this item to our monthly expense list\n",
        "    5. You returned an item that you bought in a month of April and\n",
        "    got a refund of 200$. Make a correction to your monthly expense list\n",
        "    based on this\n",
        "\n",
        "2. You have a list of your favourite marvel super heros.\n",
        "```\n",
        "heros=['spider man','thor','hulk','iron man','captain america']\n",
        "```\n",
        "\n",
        "Using this find out,\n",
        "\n",
        "    1. Length of the list\n",
        "    2. Add 'black panther' at the end of this list\n",
        "    3. You realize that you need to add 'black panther' after 'hulk',\n",
        "       so remove it from the list first and then add it after 'hulk'\n",
        "    4. Now you don't like thor and hulk because they get angry easily :)\n",
        "       So you want to remove thor and hulk from list and replace them with doctor strange (because he is cool).\n",
        "       Do that with one line of code.\n",
        "    5. Sort the heros list in alphabetical order (Hint. Use dir() functions to list down all functions available in list)\n",
        "\n",
        "\n",
        "\n",
        "\n"
      ],
      "metadata": {
        "id": "B98K3rbAqz7e"
      }
    },
    {
      "cell_type": "code",
      "source": [
        "l = [\"January\", 2200, \"February\", 2350, \"March\", 2600, \"April\", 2130, \"May\", 2190]\n",
        "#1\n",
        "print(\"how many dollars you spent extra compare to January?\", l[3] - l[1])\n",
        "#2\n",
        "print(\"total expense in first quarter of the year\", l[1] + l[3] + l[5])\n",
        "#3\n",
        "print(2000 in l)\n",
        "print(\"i did not spend exactly 2000 dollars in any month\")\n",
        "#4\n",
        "l.extend([\"june\", 10])\n",
        "print(l)\n",
        "#5\n",
        "l[7] -= 200\n",
        "print(l)"
      ],
      "metadata": {
        "id": "vvus0ZOlrzJS",
        "colab": {
          "base_uri": "https://localhost:8080/"
        },
        "outputId": "2e51a36d-d080-4626-c9e4-06d73d5307e9"
      },
      "execution_count": 5,
      "outputs": [
        {
          "output_type": "stream",
          "name": "stdout",
          "text": [
            "how many dollars you spent extra compare to January? 150\n",
            "total expense in first quarter of the year 7150\n",
            "False\n",
            "i did not spend exactly 2000 dollars in any month\n",
            "['January', 2200, 'February', 2350, 'March', 2600, 'April', 2130, 'May', 2190, 'june', 10]\n",
            "['January', 2200, 'February', 2350, 'March', 2600, 'April', 1930, 'May', 2190, 'june', 10]\n"
          ]
        }
      ]
    },
    {
      "cell_type": "code",
      "source": [
        "l = ['spider man','thor','hulk','iron man','captain america']\n",
        "#1\n",
        "print(\"It is length is\", len(l))\n",
        "#2\n",
        "l.append('black panther')\n",
        "print(l)\n",
        "#3\n",
        "l.remove('black panther')\n",
        "l.insert(3, 'black panther')\n",
        "print(l)\n",
        "#4\n",
        "l[1], l[2]= \"doctor strange\", \"doctor strange\"\n",
        "print(l)\n",
        "#5\n",
        "l.sort()\n",
        "print(l)"
      ],
      "metadata": {
        "colab": {
          "base_uri": "https://localhost:8080/"
        },
        "id": "4DjoFfbxja4E",
        "outputId": "5648a55e-344c-4bc2-c38f-5cb7512dc61f"
      },
      "execution_count": 6,
      "outputs": [
        {
          "output_type": "stream",
          "name": "stdout",
          "text": [
            "It is length is 5\n",
            "['spider man', 'thor', 'hulk', 'iron man', 'captain america', 'black panther']\n",
            "['spider man', 'thor', 'hulk', 'black panther', 'iron man', 'captain america']\n",
            "['spider man', 'doctor strange', 'doctor strange', 'black panther', 'iron man', 'captain america']\n",
            "['black panther', 'captain america', 'doctor strange', 'doctor strange', 'iron man', 'spider man']\n"
          ]
        }
      ]
    },
    {
      "cell_type": "markdown",
      "source": [
        "Write a program that prints following shape\n",
        "\n",
        "```\n",
        "    *\n",
        "   ***\n",
        "  *****\n",
        " *******\n",
        "*********\n",
        " *******\n",
        "  *****\n",
        "   ***\n",
        "    *\n",
        "```\n",
        "\n"
      ],
      "metadata": {
        "id": "ojrpvhohrzgJ"
      }
    },
    {
      "cell_type": "code",
      "source": [
        "i = 0\n",
        "j = 4\n",
        "while i < 10 :\n",
        "  i += 1\n",
        "  if i % 2 == 0 :\n",
        "    continue\n",
        "  else :\n",
        "    print(\" \" * j, \"*\" * i)\n",
        "    j -= 1\n",
        "\n",
        "i = 8\n",
        "j = 1\n",
        "while i > 1 :\n",
        "  i -= 1\n",
        "  if i % 2 == 0 :\n",
        "    continue\n",
        "  else :\n",
        "    print(\" \" * j, \"*\" * i)\n",
        "    j += 1"
      ],
      "metadata": {
        "id": "Ad-hutpdsCJ6",
        "colab": {
          "base_uri": "https://localhost:8080/"
        },
        "outputId": "c858e7ff-3321-4f78-c843-717f27abbd3d"
      },
      "execution_count": 7,
      "outputs": [
        {
          "output_type": "stream",
          "name": "stdout",
          "text": [
            "     *\n",
            "    ***\n",
            "   *****\n",
            "  *******\n",
            " *********\n",
            "  *******\n",
            "   *****\n",
            "    ***\n",
            "     *\n"
          ]
        }
      ]
    }
  ]
}